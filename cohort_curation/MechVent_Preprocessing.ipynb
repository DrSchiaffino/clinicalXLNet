{
 "cells": [
  {
   "cell_type": "code",
   "execution_count": 1,
   "metadata": {},
   "outputs": [],
   "source": [
    "import pandas as pd\n",
    "import numpy as np\n",
    "import matplotlib.pyplot as plt\n",
    "from tqdm import tqdm"
   ]
  },
  {
   "cell_type": "code",
   "execution_count": 2,
   "metadata": {},
   "outputs": [],
   "source": [
    "pd.read_csv('/scratch/kh2383/MechVent/cohort.csv')[['HADM_ID','DEATH_90','Label']].drop_duplicates().reset_index(drop = True).to_csv('./cohort_label.csv')"
   ]
  },
  {
   "cell_type": "code",
   "execution_count": 3,
   "metadata": {},
   "outputs": [],
   "source": [
    "for fold_n in range(1,6):\n",
    "    pd.Series(pd.read_csv('/scratch/kh2383/MechVent/data/fold'+str(fold_n)+'/train.csv').HADM_ID.unique()).to_csv('../Data/cohort_id/fold'+str(fold_n)+'_cohort_train.csv')\n",
    "    pd.Series(pd.read_csv('/scratch/kh2383/MechVent/data/fold'+str(fold_n)+'/val.csv').HADM_ID.unique()).to_csv('../Data/cohort_id/fold'+str(fold_n)+'_cohort_val.csv')\n",
    "    pd.Series(pd.read_csv('/scratch/kh2383/MechVent/data/fold'+str(fold_n)+'/test.csv').HADM_ID.unique()).to_csv('../Data/cohort_id/fold'+str(fold_n)+'_cohort_test.csv')"
   ]
  },
  {
   "cell_type": "code",
   "execution_count": 4,
   "metadata": {},
   "outputs": [
    {
     "name": "stderr",
     "output_type": "stream",
     "text": [
      "/share/apps/python3/3.6.3/intel/lib/python3.6/site-packages/ipython-6.2.1-py3.6.egg/IPython/core/interactiveshell.py:2728: DtypeWarning: Columns (4,5) have mixed types. Specify dtype option on import or set low_memory=False.\n",
      "  interactivity=interactivity, compiler=compiler, result=result)\n"
     ]
    }
   ],
   "source": [
    "df_notes = pd.read_csv('/scratch/kh2383/MIMIC/1.4/NOTEEVENTS.csv')"
   ]
  },
  {
   "cell_type": "code",
   "execution_count": 5,
   "metadata": {},
   "outputs": [
    {
     "data": {
      "text/plain": [
       "Report    822497\n",
       "Name: DESCRIPTION, dtype: int64"
      ]
     },
     "execution_count": 5,
     "metadata": {},
     "output_type": "execute_result"
    }
   ],
   "source": [
    "df_notes[df_notes.CATEGORY == 'Nursing/other'].DESCRIPTION.value_counts()"
   ]
  },
  {
   "cell_type": "code",
   "execution_count": null,
   "metadata": {},
   "outputs": [],
   "source": []
  },
  {
   "cell_type": "code",
   "execution_count": 6,
   "metadata": {},
   "outputs": [],
   "source": [
    "df_adm = pd.read_csv('/scratch/kh2383/MIMIC/1.4/ADMISSIONS.csv')\n",
    "df_icu = pd.read_csv('/scratch/kh2383/MIMIC/1.4/ICUSTAYS.csv')\n",
    "df_mechvent_d2 = pd.read_csv('../Data/d2_mechvent_cohort08Oct19.csv')\n",
    "df_mechvent_d7 = pd.read_csv('../Data/d7_mechvent_cohort27Sep19.csv')\n",
    "df_mechvent_d14 = pd.read_csv('../Data/d14_mechvent_cohort27Sep19.csv')\n",
    "df_mechvent_entire = pd.read_csv('../Data/entire_mechvent_cohort_starttimes15Oct19.csv')\n",
    "\n",
    "# add the INTIME Column from ICUSTAYS table\n",
    "df_mechvent_d2 = pd.merge(df_mechvent_d2, df_icu[['ICUSTAY_ID', 'INTIME']], on = ['ICUSTAY_ID'], how = 'inner')"
   ]
  },
  {
   "cell_type": "code",
   "execution_count": 7,
   "metadata": {},
   "outputs": [],
   "source": [
    "def process(df):\n",
    "    '''\n",
    "    Input\n",
    "        df: the initial cohort\n",
    "        \n",
    "    output\n",
    "        df_less_n_r: first icu stay cohort with notes within 48 hour starting from first vent time, with the following labels:\n",
    "            COHORT:\n",
    "                0 for not prolonged, 1 for more than 7 days, 2 for more than 14 days. So for prolonged for more than 7 days, should sum 1 & 2 cohort\n",
    "            LABEL:\n",
    "                0 for not prolonged, 1 for more than 7 days (including more than 14 days)\n",
    "            DEATH_90:\n",
    "                0 for not dead, 1 for dead within 90 days of 48 hours (action time) after first vent time \n",
    "            DAYS_UNTIL_DEATH: \n",
    "                continuous variable of days of death from the \n",
    "            \n",
    "            this table only returns notes that are in the respiratory, nurses, nurse/others category\n",
    "       \n",
    "       df_less_n: the above table with all the categories\n",
    "       \n",
    "       df_physician: the tables for admissions that have physician's only. It includes four categories: physician, respiratory, nurses, nurse/others category\n",
    "       \n",
    "       df_notes_cohort: the above table with no 48h restriction\n",
    "       \n",
    "    '''\n",
    "    \n",
    "    # only use the first ICU stays STARTING from the FIRST VENT TIME\n",
    "    df = df.sort_values(['HADM_ID','INTIME_x']).groupby('HADM_ID', as_index=False).first()\n",
    "    \n",
    "    # drop all the repetitive ventilation events, so now this df has each row correspond to unique one admission's first icu stay\n",
    "    df = df[['ICUSTAY_ID', 'HADM_ID', 'ADMITTIME','DISCHTIME','FIRST_VENT_STARTTIME', 'DOD']].drop_duplicates().reset_index(drop = True)\n",
    "    \n",
    "    df.DOD = pd.to_datetime(df.DOD, format = '%Y-%m-%d %H:%M:%S', errors = 'coerce')\n",
    "    df.ADMITTIME = pd.to_datetime(df.ADMITTIME, format = '%Y-%m-%d %H:%M:%S', errors = 'coerce')\n",
    "    df.DISCHTIME = pd.to_datetime(df.DISCHTIME, format = '%Y-%m-%d %H:%M:%S', errors = 'coerce')\n",
    "    df.FIRST_VENT_STARTTIME = pd.to_datetime(df.FIRST_VENT_STARTTIME, format = '%Y-%m-%d %H:%M:%S', errors = 'coerce')\n",
    "\n",
    "    # cohort 0: not prolonged, 1: more than 7 days, 2: more than 14 days\n",
    "    df = df.assign(COHORT = [1 if i else 0 for i in (df.HADM_ID.isin(df_mechvent_d7.HADM_ID.unique()))])\n",
    "    df.loc[df.HADM_ID.isin(df_mechvent_d14.HADM_ID.unique()), 'COHORT'] = 2\n",
    "    count = df.groupby('COHORT').HADM_ID.nunique().values.tolist()\n",
    "    print('Not prolonged: {}, more than 7 days: {}, more than 14 days: {}'.format(count[0], count[1], count[2]))\n",
    "    \n",
    "    #to calculate the death label\n",
    "    df = df.assign(DAYS_UNTIL_DEATH = ((df['DOD']-df['FIRST_VENT_STARTTIME']).dt.total_seconds()/(60*60*24)))\n",
    "    df = df.assign(DEATH = [1 if i else 0 for i in (df.DAYS_UNTIL_DEATH < 7)])\n",
    "    df = df.assign(DEATH_90 = [1 if i else 0 for i in (df.DAYS_UNTIL_DEATH < 92)])\n",
    "    \n",
    "    df_curated = df.drop_duplicates().reset_index(drop = True)\n",
    "    print('n (number of admissions) is : {}'.format(len(df_curated.HADM_ID.unique())))\n",
    "    \n",
    "    # filter so that notes only in the admission cohort, in the CATEGORY we want\n",
    "    df_notes_cohort = df_notes[df_notes.HADM_ID.isin(df_curated.HADM_ID)]\n",
    "    print('removed subjects with no notes associated, n: {}'.format(len(df_notes_cohort.HADM_ID.unique())))\n",
    "\n",
    "    df_notes_cohort = pd.merge(df_notes_cohort[['HADM_ID', 'CHARTTIME', 'TEXT', 'CATEGORY', 'DESCRIPTION']], df_curated, on = ['HADM_ID'], how = 'inner')\n",
    "    print('after merge, n: {}'.format(len(df_notes_cohort.HADM_ID.unique())))\n",
    "    \n",
    "    df_notes_cohort.CHARTTIME = pd.to_datetime(df_notes_cohort.CHARTTIME, format = '%Y-%m-%d %H:%M:%S', errors = 'coerce')\n",
    "    df_notes_cohort.ADMITTIME = pd.to_datetime(df_notes_cohort.ADMITTIME, format = '%Y-%m-%d %H:%M:%S', errors = 'coerce')\n",
    "        \n",
    "    TIME_to_VENT = ((df_notes_cohort['CHARTTIME']-df_notes_cohort['FIRST_VENT_STARTTIME']).dt.total_seconds()/(60*60))\n",
    "    df_less_n = df_notes_cohort[ (TIME_to_VENT<=48) & (TIME_to_VENT >=0)]\n",
    "    print('restricted to the first 48h, n: {}'.format(len(df_less_n.HADM_ID.unique())))\n",
    "    df_less_n = df_less_n.assign(Label = [1 if i else 0 for i in (df_less_n.COHORT != 0)])\n",
    "\n",
    "    # create cohort that have physician notes aka 2008-2013 MIMIC\n",
    "    df_physician = df_less_n[df_less_n.CATEGORY.isin(['Physician ','Nursing', 'Nursing/other', 'Respiratory '])]\n",
    "    df_physician = df_physician[df_physician.HADM_ID.isin(df_physician[df_physician.CATEGORY == 'Physician '].HADM_ID.unique())]\n",
    "    \n",
    "    print('There are {} # of admissions that have physician notes'.format(len(df_physician.HADM_ID.unique())))\n",
    "    \n",
    "    df_less_n_r = df_less_n[df_less_n.CATEGORY.isin(['Nursing', 'Nursing/other', 'Respiratory '])]\n",
    "\n",
    "    print('remove subjects with no notes in the selected categories the entire admission, n: {}'.format(len(df_notes_cohort[df_notes_cohort.CATEGORY.isin(['Physician ', 'Nursing', 'Nursing/other'])].HADM_ID.unique())))\n",
    "    print('remove subjects with no notes in the selected categories under 48h, n: {}'.format(len(df_less_n_r.HADM_ID.unique())))\n",
    "    \n",
    "    print('# of notes restricted to the three categories: {}'.format(len(df_less_n_r)))\n",
    "    print('# of notes using all categories: {}'.format(len(df_less_n)))\n",
    "    \n",
    "    print('--- for prediction: below are label stats using three categories only ---')\n",
    "    \n",
    "    count = df_less_n_r.groupby('COHORT').HADM_ID.nunique().values.tolist()\n",
    "    print('Not prolonged: {}, prolonged: {}, out of which, more than 7 days: {}, more than 14 days: {}'.format(count[0], count[1]+count[2], count[1], count[2]))\n",
    "    count = df_less_n_r.groupby('DEATH').HADM_ID.nunique().values.tolist()\n",
    "    print('Not Death within 7 days: {}, Death within 7 days: {}'.format(count[0], count[1]))\n",
    "    \n",
    "    df_death = df_less_n_r[df_less_n_r.HADM_ID.isin(df_less_n_r.groupby('DEATH').HADM_ID.unique()[1])]\n",
    "    c = df_death[['HADM_ID','COHORT']].drop_duplicates().COHORT.value_counts().values\n",
    "    try:\n",
    "        print('Out of the {} death within 7 days, {} is from cohort not prolonged, {} is from cohort prolonged more than 7 days, and {} for 14 days'.format(count[1], c[0], c[1], c[2]))\n",
    "    except:\n",
    "        print('Out of the {} death within 7 days, {} is from cohort not prolonged, {} is from cohort prolonged more than 7 days, and 0 for 14 days'.format(count[1], c[0], c[1]))\n",
    "        \n",
    "    count = df_less_n_r.groupby('DEATH_90').HADM_ID.nunique().values.tolist()\n",
    "    print('Not Death within 90 days: {}, Death within 90 days: {}'.format(count[0], count[1]))\n",
    "        \n",
    "    return df_less_n_r.reset_index(drop = True), df_less_n.reset_index(drop = True), df_physician.reset_index(drop = True), df_notes_cohort.reset_index(drop = True)\n",
    "    "
   ]
  },
  {
   "cell_type": "code",
   "execution_count": 8,
   "metadata": {},
   "outputs": [
    {
     "name": "stdout",
     "output_type": "stream",
     "text": [
      "Not prolonged: 5185, more than 7 days: 2424, more than 14 days: 1874\n",
      "n (number of admissions) is : 9483\n",
      "removed subjects with no notes associated, n: 9372\n",
      "after merge, n: 9372\n",
      "restricted to the first 48h, n: 9095\n",
      "There are 1538 # of admissions that have physician notes\n",
      "remove subjects with no notes in the selected categories the entire admission, n: 7290\n",
      "remove subjects with no notes in the selected categories under 48h, n: 7287\n",
      "# of notes restricted to the three categories: 71439\n",
      "# of notes using all categories: 120108\n",
      "--- for prediction: below are label stats using three categories only ---\n",
      "Not prolonged: 3875, prolonged: 3412, out of which, more than 7 days: 1858, more than 14 days: 1554\n",
      "Not Death within 7 days: 6360, Death within 7 days: 927\n",
      "Out of the 927 death within 7 days, 885 is from cohort not prolonged, 42 is from cohort prolonged more than 7 days, and 0 for 14 days\n",
      "Not Death within 90 days: 4607, Death within 90 days: 2680\n"
     ]
    }
   ],
   "source": [
    "df_less_n_d2, df_less_48, df_physician, df_notes_d2 = process(df_mechvent_d2)"
   ]
  },
  {
   "cell_type": "code",
   "execution_count": 23,
   "metadata": {},
   "outputs": [
    {
     "data": {
      "text/plain": [
       "Report    274151\n",
       "Name: DESCRIPTION, dtype: int64"
      ]
     },
     "execution_count": 23,
     "metadata": {},
     "output_type": "execute_result"
    }
   ],
   "source": [
    "df_notes_d2[df_notes_d2.CATEGORY == 'Nursing/other'].DESCRIPTION.value_counts()"
   ]
  },
  {
   "cell_type": "code",
   "execution_count": 16,
   "metadata": {},
   "outputs": [
    {
     "data": {
      "text/plain": [
       "(array([  4.40100000e+03,   6.76900000e+03,   5.00100000e+03,\n",
       "          2.31100000e+03,   9.24000000e+02,   2.68000000e+02,\n",
       "          8.00000000e+01,   3.10000000e+01,   1.70000000e+01,\n",
       "          2.00000000e+00]),\n",
       " array([  1.00000000e+00,   1.41400000e+02,   2.81800000e+02,\n",
       "          4.22200000e+02,   5.62600000e+02,   7.03000000e+02,\n",
       "          8.43400000e+02,   9.83800000e+02,   1.12420000e+03,\n",
       "          1.26460000e+03,   1.40500000e+03]),\n",
       " <a list of 10 Patch objects>)"
      ]
     },
     "execution_count": 16,
     "metadata": {},
     "output_type": "execute_result"
    },
    {
     "data": {
      "image/png": "[encoded data removed]",
      "text/plain": [
       "<Figure size 432x288 with 1 Axes>"
      ]
     },
     "metadata": {
      "needs_background": "light"
     },
     "output_type": "display_data"
    }
   ],
   "source": [
    "plt.hist(df_less_n_d2[df_less_n_d2.CATEGORY == 'Nursing'].TEXT.str.split().str.len())"
   ]
  },
  {
   "cell_type": "code",
   "execution_count": 17,
   "metadata": {},
   "outputs": [
    {
     "data": {
      "text/plain": [
       "(array([ 17550.,   6226.,   5454.,   5651.,   4459.,   2916.,   1711.,\n",
       "          1250.,    534.,     23.]),\n",
       " array([   0. ,   63.1,  126.2,  189.3,  252.4,  315.5,  378.6,  441.7,\n",
       "         504.8,  567.9,  631. ]),\n",
       " <a list of 10 Patch objects>)"
      ]
     },
     "execution_count": 17,
     "metadata": {},
     "output_type": "execute_result"
    },
    {
     "data": {
      "image/png": "[encoded data removed]",
      "text/plain": [
       "<Figure size 432x288 with 1 Axes>"
      ]
     },
     "metadata": {
      "needs_background": "light"
     },
     "output_type": "display_data"
    }
   ],
   "source": [
    "plt.hist(df_less_n_d2[df_less_n_d2.CATEGORY == 'Nursing/other'].TEXT.str.split().str.len())"
   ]
  },
  {
   "cell_type": "code",
   "execution_count": null,
   "metadata": {},
   "outputs": [],
   "source": [
    "    df_less_n['# of tokens'] = df_less_n['TEXT'].str.split().str.len()\n"
   ]
  },
  {
   "cell_type": "code",
   "execution_count": 41,
   "metadata": {},
   "outputs": [],
   "source": [
    "df_nursing_other = df_less_n_d2[df_less_n_d2.CATEGORY == 'Nursing/other'].reset_index(drop = True)"
   ]
  },
  {
   "cell_type": "code",
   "execution_count": 51,
   "metadata": {},
   "outputs": [
    {
     "data": {
      "text/plain": [
       "\"ADMISSION NOTE:\\nPT IS A 77YR OLD FEMALE WITH H/O RESTRICTIVE LUNG, RA, S/P TRACHEOSTOMY AND WAS BROUGHT TO THE [**Hospital1 3**] ED FOR EVALUATION AND RX OF HEMODYNAMIC COLLAPSE THAT OCCURRED AT THE [**Last Name (un) **] HOUSE NH. ON [**5-2**] PT WAS FOUND TO BE ALERT/RESPONSIVE IN BED AND THEN BECAME CYANOTIC, HYPOTENSIVE AND UNRESPONSIVE WHEN SHE WAS MOVED TO THE CHAIR. IN [**2157-10-24**] PT TRACH/VENTED, SHE WAS EVENTUALLY PT WAS ABLE TO GET OFF THE VENT, HAD A FENESTRATED TRACH PLACED AND CONTINUED TO REQUIRE BIPAP AT NIGHT. AS OF YESTERDAY EVENING SHE HAD A STABLE NIGHT WITH O2SAT'S 95% ON 2L O2 AND NO EVIDENCE OF  CO2 NARCOSIS.\\nIN THE [**Name (NI) **] PT WAS HYPOTENSIVE, SOB, WITH LOW O2SAT'S AND POOR ABG'S AND WAS THEN INTUBATED VIA TRACH SITE AND PLACED ON VENT. PT CONT TO BE HYPOTENSIVE AND WAS STARTED ON LEVO/NEO. PT WAS ALSO FLUID RESUCITATED WITH SEVERAL LITERS OF FLUID. PT HAD TLC PLACED IN LEFT GROIN AND ALINE PLACED IN RIGHT GROIN. PT HAD NGT PLACED AND WAS GIVEN BARAKET FOR ABD CT WHICH WAS APPARENTLY NEG.\\nPT ARRIVED IN MICU ALERT AND RESPONSIVE. PT IS ON VENT VIA TRACH, LUNG SOUNDS ARE VERY COARSE WITH INSP/EXP WHEEZES. PT PLACED ON MONITOR AND WAS VERY TACHYCARDIC WITH RATES UPTO THE 170'S. BP IN THE 60'S. HAVING DIFF WITH ALINE CORRELATING WITH NBP. NOT SURE WHICH WAS MORE ACCURATE. PT ON MAX AMTS OF LEVO AND NEO AND FLUIDS [**Name (NI) **], PT WAS STARTED ON VASOPRESSIN. GRADUALLY LEVO WEANED OFF, AND NEO AND VASO WEANED DOWN. PRESENTLY TITRATING VASOPRESSIN AND NEO TO KEEP MAP GREATER THAN 60.\\nFOLEY CATH PATENT DRAINING VERY SMALL AMT'S OF YELLOW URINE, WHICH IS CLOUDY AT TIME.\\nNGT PLACE TO LWS AND DRAINING MOD AMT'S OF BARAKET LOOKING MATERIAL.\\nPT INC OF LIQ STOOL, MUSHROOM CATHETER PLACED AND PT DRAINED [**Name (NI) 972**] AMT'S OF ORANGEY LIQ STOOL. SPEC SENT FOR CDIFF.\\nSKIN: PT HAS QUARTER SIZE NECROTIC DECUBITUS ON RIGHT BUTTOCKS. DUODERM REMOVED AND REAPPLIED.  PT ALSO AS DIME SIZE ULCERATION ON INNER ASPECT OF LEFT THIGH NEAR PERIANAL SPACE. PT HAS A PERMANENT DISCOLORATION OF HER SKIN DUE TO A SILVER BASED MEDICATION SHE RECEIVED IN [**Country 1100**] FOR THE TREATMENT OF HER LUNG DISEASE WHEN SHE WAS MUCH YOUNGER, WHICH MAKES HER APPEAR CYANOTIC BUT SHE IS NOT. PT BECOMES VERY DARK(BLACK) WHEN CYANTOTIC.\\nPMH: PT HAS CRIPPLING RA, FOR WHICH SHE HAS HAD MULTIPLE SURGERIES AND JOINT REPLACEMENTS. PT IS ON COUMADIN FOR AFIB AND HAS DEVELOPED UPPER AND LOWER GI BLEEDS IN THE PAST. SHE HAS BEEN TREATED WITH MULTIPLE TRANSFUSIONS AND SURGERY IN PAST.\\nCURRENTLY PT CONT TO BE RESPONSIVE AND EASILY AROUSED IF SLEEPING. PT HAS BEEN FLUID RESUCITATED SINCE SHE HAS BEEN HERE AND MAKING VERY LITTLE URINE. PT HAS 3RD SPACED ALL HER FLUID. ABDOMEN VERY DISTENDED AND TAUT. KUB DONE, DONOT KNOW RESULTS AT THIS TIME.\\nPT'S K ELEVETATED AND TREATED WITH INSULIN/D50 X 1. PH 6.9 AND TREATED WITH 4 AMPS BICARB AND A VENT CHG. PH IMPROVED FOR A WHILE AND REQUIRED 2MORE AMPS OF BICARB. MG LEVEL LOW AND REPLACED WITH 4GM IV.\\nPT IS ON MULTIPLE ANTIBIOTICS. TONGUE IS VERY SWOLLEN AND HAS THRUSH, PT STARTED ON NYSTATIN S/S.\\nPT ALSO HAS PERMACATH IN LEF\\n\""
      ]
     },
     "execution_count": 51,
     "metadata": {},
     "output_type": "execute_result"
    }
   ],
   "source": [
    "df_nursing_other[df_nursing_other.TEXT.str.split().str.len()>500].TEXT.values[-1]"
   ]
  },
  {
   "cell_type": "code",
   "execution_count": 34,
   "metadata": {},
   "outputs": [
    {
     "data": {
      "text/plain": [
       "228"
      ]
     },
     "execution_count": 34,
     "metadata": {},
     "output_type": "execute_result"
    }
   ],
   "source": [
    "len((df_less_n_d2[df_less_n_d2.CATEGORY == 'Nursing/other'].TEXT.iloc[1735]).split())"
   ]
  },
  {
   "cell_type": "code",
   "execution_count": null,
   "metadata": {},
   "outputs": [],
   "source": []
  },
  {
   "cell_type": "code",
   "execution_count": null,
   "metadata": {},
   "outputs": [],
   "source": []
  },
  {
   "cell_type": "code",
   "execution_count": 6,
   "metadata": {},
   "outputs": [],
   "source": [
    "df_less_n_d2.to_csv('/scratch/kh2383/MechVent/cohort.csv')"
   ]
  },
  {
   "cell_type": "code",
   "execution_count": 34,
   "metadata": {},
   "outputs": [
    {
     "data": {
      "text/plain": [
       "0"
      ]
     },
     "execution_count": 34,
     "metadata": {},
     "output_type": "execute_result"
    }
   ],
   "source": [
    "sum([1 if i else 0 for i in (df_less_n_d2[['HADM_ID','DAYS_UNTIL_DEATH']].drop_duplicates().DAYS_UNTIL_DEATH == 0)])"
   ]
  },
  {
   "cell_type": "code",
   "execution_count": 16,
   "metadata": {},
   "outputs": [
    {
     "data": {
      "text/plain": [
       "array(['ICUSTAY_ID', 'SUBJECT_ID', 'HADM_ID', 'ADMITTIME', 'DISCHTIME',\n",
       "       'ADMISSION_TYPE', 'ETHNICITY', 'HOSPITAL_EXPIRE_FLAG', 'GENDER',\n",
       "       'DOD', 'DEATHTIME', 'ADMISSION_LOCATION', 'DISCHARGE_LOCATION',\n",
       "       'INSURANCE', 'LANGUAGE', 'RELIGION', 'MARITAL_STATUS', 'EDREGTIME',\n",
       "       'EDOUTTIME', 'DIAGNOSIS', 'HAS_CHARTEVENTS_DATA', 'DOB', 'DOD_HOSP',\n",
       "       'DOD_SSN', 'EXPIRE_FLAG', 'INTIME_x', 'OUTTIME', 'DBSOURCE',\n",
       "       'FIRST_CAREUNIT', 'LAST_CAREUNIT', 'FIRST_WARDID', 'LAST_WARDID',\n",
       "       'LOS', 'LOS_HOSPITAL', 'ADMISSION_AGE', 'HOSPSTAY_SEQ',\n",
       "       'FIRST_HOSP_STAY', 'LOS_ICU', 'ICUSTAY_SEQ', 'FIRST_ICU_STAY',\n",
       "       'VENTNUM', 'STARTTIME', 'ENDTIME', 'DURATION_HOURS',\n",
       "       'DAYS_UNTIL_DEATH', 'FIRST_VENT_STARTTIME', 'COHORT', 'INTIME_y'], dtype=object)"
      ]
     },
     "execution_count": 16,
     "metadata": {},
     "output_type": "execute_result"
    }
   ],
   "source": [
    "df_mechvent_d2.columns.values"
   ]
  },
  {
   "cell_type": "code",
   "execution_count": 9,
   "metadata": {},
   "outputs": [],
   "source": [
    "from tableone import TableOne"
   ]
  },
  {
   "cell_type": "code",
   "execution_count": 48,
   "metadata": {},
   "outputs": [
    {
     "data": {
      "text/plain": [
       "7287"
      ]
     },
     "execution_count": 48,
     "metadata": {},
     "output_type": "execute_result"
    }
   ],
   "source": [
    "len(total.HADM_ID.unique())"
   ]
  },
  {
   "cell_type": "code",
   "execution_count": 77,
   "metadata": {},
   "outputs": [],
   "source": [
    "total = df_mechvent_d2[df_mechvent_d2.HADM_ID.isin(df_less_n_d2.HADM_ID.unique())]\n",
    "x = total[['HADM_ID','ETHNICITY','GENDER','MARITAL_STATUS','ADMISSION_AGE']].drop_duplicates().reset_index(drop = True)\n",
    "#total = df_mechvent_d2[df_mechvent_d2.HADM_ID.isin(df_less_n_d2.HADM_ID.unique())]\n",
    "t = x[x.HADM_ID.isin(df_less_n_d2[df_less_n_d2.DEATH_90 == 1].HADM_ID.unique())]\n",
    "f = x[x.HADM_ID.isin(df_less_n_d2[df_less_n_d2.DEATH_90 == 0].HADM_ID.unique())]"
   ]
  },
  {
   "cell_type": "code",
   "execution_count": 61,
   "metadata": {},
   "outputs": [],
   "source": [
    "columns = ['ETHNICITY','GENDER','MARITAL_STATUS','ADMISSION_AGE']\n",
    "categorical = ['ETHNICITY','GENDER','MARITAL_STATUS']"
   ]
  },
  {
   "cell_type": "code",
   "execution_count": 56,
   "metadata": {},
   "outputs": [
    {
     "data": {
      "text/plain": [
       "7287"
      ]
     },
     "execution_count": 56,
     "metadata": {},
     "output_type": "execute_result"
    }
   ],
   "source": [
    "len(x)"
   ]
  },
  {
   "cell_type": "code",
   "execution_count": 79,
   "metadata": {},
   "outputs": [
    {
     "data": {
      "text/html": [
       "<div>\n",
       "<style scoped>\n",
       "    .dataframe tbody tr th:only-of-type {\n",
       "        vertical-align: middle;\n",
       "    }\n",
       "\n",
       "    .dataframe tbody tr th {\n",
       "        vertical-align: top;\n",
       "    }\n",
       "\n",
       "    .dataframe thead th {\n",
       "        text-align: right;\n",
       "    }\n",
       "</style>\n",
       "<table border=\"1\" class=\"dataframe\">\n",
       "  <thead>\n",
       "    <tr style=\"text-align: right;\">\n",
       "      <th></th>\n",
       "      <th></th>\n",
       "      <th>isnull</th>\n",
       "      <th>overall</th>\n",
       "    </tr>\n",
       "    <tr>\n",
       "      <th>variable</th>\n",
       "      <th>level</th>\n",
       "      <th></th>\n",
       "      <th></th>\n",
       "    </tr>\n",
       "  </thead>\n",
       "  <tbody>\n",
       "    <tr>\n",
       "      <th>n</th>\n",
       "      <th></th>\n",
       "      <td></td>\n",
       "      <td>4607</td>\n",
       "    </tr>\n",
       "    <tr>\n",
       "      <th rowspan=\"30\" valign=\"top\">ETHNICITY</th>\n",
       "      <th>AMERICAN INDIAN/ALASKA NATIVE</th>\n",
       "      <td>0</td>\n",
       "      <td>2 (0.0)</td>\n",
       "    </tr>\n",
       "    <tr>\n",
       "      <th>ASIAN</th>\n",
       "      <td></td>\n",
       "      <td>64 (1.4)</td>\n",
       "    </tr>\n",
       "    <tr>\n",
       "      <th>ASIAN - ASIAN INDIAN</th>\n",
       "      <td></td>\n",
       "      <td>9 (0.2)</td>\n",
       "    </tr>\n",
       "    <tr>\n",
       "      <th>ASIAN - CHINESE</th>\n",
       "      <td></td>\n",
       "      <td>18 (0.4)</td>\n",
       "    </tr>\n",
       "    <tr>\n",
       "      <th>ASIAN - FILIPINO</th>\n",
       "      <td></td>\n",
       "      <td>1 (0.0)</td>\n",
       "    </tr>\n",
       "    <tr>\n",
       "      <th>ASIAN - OTHER</th>\n",
       "      <td></td>\n",
       "      <td>1 (0.0)</td>\n",
       "    </tr>\n",
       "    <tr>\n",
       "      <th>ASIAN - VIETNAMESE</th>\n",
       "      <td></td>\n",
       "      <td>3 (0.1)</td>\n",
       "    </tr>\n",
       "    <tr>\n",
       "      <th>BLACK/AFRICAN</th>\n",
       "      <td></td>\n",
       "      <td>4 (0.1)</td>\n",
       "    </tr>\n",
       "    <tr>\n",
       "      <th>BLACK/AFRICAN AMERICAN</th>\n",
       "      <td></td>\n",
       "      <td>371 (8.1)</td>\n",
       "    </tr>\n",
       "    <tr>\n",
       "      <th>BLACK/CAPE VERDEAN</th>\n",
       "      <td></td>\n",
       "      <td>9 (0.2)</td>\n",
       "    </tr>\n",
       "    <tr>\n",
       "      <th>BLACK/HAITIAN</th>\n",
       "      <td></td>\n",
       "      <td>4 (0.1)</td>\n",
       "    </tr>\n",
       "    <tr>\n",
       "      <th>HISPANIC OR LATINO</th>\n",
       "      <td></td>\n",
       "      <td>132 (2.9)</td>\n",
       "    </tr>\n",
       "    <tr>\n",
       "      <th>HISPANIC/LATINO - COLOMBIAN</th>\n",
       "      <td></td>\n",
       "      <td>1 (0.0)</td>\n",
       "    </tr>\n",
       "    <tr>\n",
       "      <th>HISPANIC/LATINO - DOMINICAN</th>\n",
       "      <td></td>\n",
       "      <td>6 (0.1)</td>\n",
       "    </tr>\n",
       "    <tr>\n",
       "      <th>HISPANIC/LATINO - GUATEMALAN</th>\n",
       "      <td></td>\n",
       "      <td>1 (0.0)</td>\n",
       "    </tr>\n",
       "    <tr>\n",
       "      <th>HISPANIC/LATINO - MEXICAN</th>\n",
       "      <td></td>\n",
       "      <td>1 (0.0)</td>\n",
       "    </tr>\n",
       "    <tr>\n",
       "      <th>HISPANIC/LATINO - PUERTO RICAN</th>\n",
       "      <td></td>\n",
       "      <td>22 (0.5)</td>\n",
       "    </tr>\n",
       "    <tr>\n",
       "      <th>HISPANIC/LATINO - SALVADORAN</th>\n",
       "      <td></td>\n",
       "      <td>1 (0.0)</td>\n",
       "    </tr>\n",
       "    <tr>\n",
       "      <th>MIDDLE EASTERN</th>\n",
       "      <td></td>\n",
       "      <td>2 (0.0)</td>\n",
       "    </tr>\n",
       "    <tr>\n",
       "      <th>MULTI RACE ETHNICITY</th>\n",
       "      <td></td>\n",
       "      <td>8 (0.2)</td>\n",
       "    </tr>\n",
       "    <tr>\n",
       "      <th>OTHER</th>\n",
       "      <td></td>\n",
       "      <td>93 (2.0)</td>\n",
       "    </tr>\n",
       "    <tr>\n",
       "      <th>PATIENT DECLINED TO ANSWER</th>\n",
       "      <td></td>\n",
       "      <td>37 (0.8)</td>\n",
       "    </tr>\n",
       "    <tr>\n",
       "      <th>PORTUGUESE</th>\n",
       "      <td></td>\n",
       "      <td>6 (0.1)</td>\n",
       "    </tr>\n",
       "    <tr>\n",
       "      <th>UNABLE TO OBTAIN</th>\n",
       "      <td></td>\n",
       "      <td>51 (1.1)</td>\n",
       "    </tr>\n",
       "    <tr>\n",
       "      <th>UNKNOWN/NOT SPECIFIED</th>\n",
       "      <td></td>\n",
       "      <td>445 (9.7)</td>\n",
       "    </tr>\n",
       "    <tr>\n",
       "      <th>WHITE</th>\n",
       "      <td></td>\n",
       "      <td>3298 (71.6)</td>\n",
       "    </tr>\n",
       "    <tr>\n",
       "      <th>WHITE - BRAZILIAN</th>\n",
       "      <td></td>\n",
       "      <td>7 (0.2)</td>\n",
       "    </tr>\n",
       "    <tr>\n",
       "      <th>WHITE - EASTERN EUROPEAN</th>\n",
       "      <td></td>\n",
       "      <td>1 (0.0)</td>\n",
       "    </tr>\n",
       "    <tr>\n",
       "      <th>WHITE - OTHER EUROPEAN</th>\n",
       "      <td></td>\n",
       "      <td>4 (0.1)</td>\n",
       "    </tr>\n",
       "    <tr>\n",
       "      <th>WHITE - RUSSIAN</th>\n",
       "      <td></td>\n",
       "      <td>5 (0.1)</td>\n",
       "    </tr>\n",
       "    <tr>\n",
       "      <th rowspan=\"2\" valign=\"top\">GENDER</th>\n",
       "      <th>F</th>\n",
       "      <td>0</td>\n",
       "      <td>2009 (43.6)</td>\n",
       "    </tr>\n",
       "    <tr>\n",
       "      <th>M</th>\n",
       "      <td></td>\n",
       "      <td>2598 (56.4)</td>\n",
       "    </tr>\n",
       "    <tr>\n",
       "      <th rowspan=\"7\" valign=\"top\">MARITAL_STATUS</th>\n",
       "      <th>DIVORCED</th>\n",
       "      <td>264</td>\n",
       "      <td>296 (6.8)</td>\n",
       "    </tr>\n",
       "    <tr>\n",
       "      <th>LIFE PARTNER</th>\n",
       "      <td></td>\n",
       "      <td>1 (0.0)</td>\n",
       "    </tr>\n",
       "    <tr>\n",
       "      <th>MARRIED</th>\n",
       "      <td></td>\n",
       "      <td>2162 (49.8)</td>\n",
       "    </tr>\n",
       "    <tr>\n",
       "      <th>SEPARATED</th>\n",
       "      <td></td>\n",
       "      <td>47 (1.1)</td>\n",
       "    </tr>\n",
       "    <tr>\n",
       "      <th>SINGLE</th>\n",
       "      <td></td>\n",
       "      <td>1243 (28.6)</td>\n",
       "    </tr>\n",
       "    <tr>\n",
       "      <th>UNKNOWN (DEFAULT)</th>\n",
       "      <td></td>\n",
       "      <td>35 (0.8)</td>\n",
       "    </tr>\n",
       "    <tr>\n",
       "      <th>WIDOWED</th>\n",
       "      <td></td>\n",
       "      <td>559 (12.9)</td>\n",
       "    </tr>\n",
       "    <tr>\n",
       "      <th>ADMISSION_AGE</th>\n",
       "      <th></th>\n",
       "      <td>0</td>\n",
       "      <td>61.4 (16.8)</td>\n",
       "    </tr>\n",
       "  </tbody>\n",
       "</table>\n",
       "</div><br />[1] Warning, Hartigan's Dip Test reports possible multimodal distributions for: ADMISSION_AGE.<br />[2] Warning, test for normality reports non-normal distributions for: ADMISSION_AGE.<br />"
      ],
      "text/plain": [
       "                                              isnull      overall\n",
       "variable       level                                             \n",
       "n                                                            4607\n",
       "ETHNICITY      AMERICAN INDIAN/ALASKA NATIVE       0      2 (0.0)\n",
       "               ASIAN                                     64 (1.4)\n",
       "               ASIAN - ASIAN INDIAN                       9 (0.2)\n",
       "               ASIAN - CHINESE                           18 (0.4)\n",
       "               ASIAN - FILIPINO                           1 (0.0)\n",
       "               ASIAN - OTHER                              1 (0.0)\n",
       "               ASIAN - VIETNAMESE                         3 (0.1)\n",
       "               BLACK/AFRICAN                              4 (0.1)\n",
       "               BLACK/AFRICAN AMERICAN                   371 (8.1)\n",
       "               BLACK/CAPE VERDEAN                         9 (0.2)\n",
       "               BLACK/HAITIAN                              4 (0.1)\n",
       "               HISPANIC OR LATINO                       132 (2.9)\n",
       "               HISPANIC/LATINO - COLOMBIAN                1 (0.0)\n",
       "               HISPANIC/LATINO - DOMINICAN                6 (0.1)\n",
       "               HISPANIC/LATINO - GUATEMALAN               1 (0.0)\n",
       "               HISPANIC/LATINO - MEXICAN                  1 (0.0)\n",
       "               HISPANIC/LATINO - PUERTO RICAN            22 (0.5)\n",
       "               HISPANIC/LATINO - SALVADORAN               1 (0.0)\n",
       "               MIDDLE EASTERN                             2 (0.0)\n",
       "               MULTI RACE ETHNICITY                       8 (0.2)\n",
       "               OTHER                                     93 (2.0)\n",
       "               PATIENT DECLINED TO ANSWER                37 (0.8)\n",
       "               PORTUGUESE                                 6 (0.1)\n",
       "               UNABLE TO OBTAIN                          51 (1.1)\n",
       "               UNKNOWN/NOT SPECIFIED                    445 (9.7)\n",
       "               WHITE                                  3298 (71.6)\n",
       "               WHITE - BRAZILIAN                          7 (0.2)\n",
       "               WHITE - EASTERN EUROPEAN                   1 (0.0)\n",
       "               WHITE - OTHER EUROPEAN                     4 (0.1)\n",
       "               WHITE - RUSSIAN                            5 (0.1)\n",
       "GENDER         F                                   0  2009 (43.6)\n",
       "               M                                      2598 (56.4)\n",
       "MARITAL_STATUS DIVORCED                          264    296 (6.8)\n",
       "               LIFE PARTNER                               1 (0.0)\n",
       "               MARRIED                                2162 (49.8)\n",
       "               SEPARATED                                 47 (1.1)\n",
       "               SINGLE                                 1243 (28.6)\n",
       "               UNKNOWN (DEFAULT)                         35 (0.8)\n",
       "               WIDOWED                                 559 (12.9)\n",
       "ADMISSION_AGE                                      0  61.4 (16.8)\n",
       "[1] Warning, Hartigan's Dip Test reports possible multimodal distributions for: ADMISSION_AGE.\n",
       "[2] Warning, test for normality reports non-normal distributions for: ADMISSION_AGE."
      ]
     },
     "execution_count": 79,
     "metadata": {},
     "output_type": "execute_result"
    }
   ],
   "source": [
    "TableOne(f, columns, categorical)"
   ]
  },
  {
   "cell_type": "code",
   "execution_count": 22,
   "metadata": {},
   "outputs": [
    {
     "data": {
      "text/html": [
       "<div>\n",
       "<style scoped>\n",
       "    .dataframe tbody tr th:only-of-type {\n",
       "        vertical-align: middle;\n",
       "    }\n",
       "\n",
       "    .dataframe tbody tr th {\n",
       "        vertical-align: top;\n",
       "    }\n",
       "\n",
       "    .dataframe thead th {\n",
       "        text-align: right;\n",
       "    }\n",
       "</style>\n",
       "<table border=\"1\" class=\"dataframe\">\n",
       "  <thead>\n",
       "    <tr style=\"text-align: right;\">\n",
       "      <th></th>\n",
       "      <th></th>\n",
       "      <th>isnull</th>\n",
       "      <th>overall</th>\n",
       "    </tr>\n",
       "    <tr>\n",
       "      <th>variable</th>\n",
       "      <th>level</th>\n",
       "      <th></th>\n",
       "      <th></th>\n",
       "    </tr>\n",
       "  </thead>\n",
       "  <tbody>\n",
       "    <tr>\n",
       "      <th>n</th>\n",
       "      <th></th>\n",
       "      <td></td>\n",
       "      <td>3875</td>\n",
       "    </tr>\n",
       "    <tr>\n",
       "      <th rowspan=\"28\" valign=\"top\">ETHNICITY</th>\n",
       "      <th>AMERICAN INDIAN/ALASKA NATIVE</th>\n",
       "      <td>0</td>\n",
       "      <td>2 (0.1)</td>\n",
       "    </tr>\n",
       "    <tr>\n",
       "      <th>ASIAN</th>\n",
       "      <td></td>\n",
       "      <td>58 (1.5)</td>\n",
       "    </tr>\n",
       "    <tr>\n",
       "      <th>ASIAN - ASIAN INDIAN</th>\n",
       "      <td></td>\n",
       "      <td>4 (0.1)</td>\n",
       "    </tr>\n",
       "    <tr>\n",
       "      <th>ASIAN - CHINESE</th>\n",
       "      <td></td>\n",
       "      <td>13 (0.3)</td>\n",
       "    </tr>\n",
       "    <tr>\n",
       "      <th>ASIAN - FILIPINO</th>\n",
       "      <td></td>\n",
       "      <td>3 (0.1)</td>\n",
       "    </tr>\n",
       "    <tr>\n",
       "      <th>ASIAN - JAPANESE</th>\n",
       "      <td></td>\n",
       "      <td>1 (0.0)</td>\n",
       "    </tr>\n",
       "    <tr>\n",
       "      <th>ASIAN - OTHER</th>\n",
       "      <td></td>\n",
       "      <td>2 (0.1)</td>\n",
       "    </tr>\n",
       "    <tr>\n",
       "      <th>ASIAN - VIETNAMESE</th>\n",
       "      <td></td>\n",
       "      <td>4 (0.1)</td>\n",
       "    </tr>\n",
       "    <tr>\n",
       "      <th>BLACK/AFRICAN</th>\n",
       "      <td></td>\n",
       "      <td>2 (0.1)</td>\n",
       "    </tr>\n",
       "    <tr>\n",
       "      <th>BLACK/AFRICAN AMERICAN</th>\n",
       "      <td></td>\n",
       "      <td>319 (8.2)</td>\n",
       "    </tr>\n",
       "    <tr>\n",
       "      <th>BLACK/CAPE VERDEAN</th>\n",
       "      <td></td>\n",
       "      <td>7 (0.2)</td>\n",
       "    </tr>\n",
       "    <tr>\n",
       "      <th>BLACK/HAITIAN</th>\n",
       "      <td></td>\n",
       "      <td>3 (0.1)</td>\n",
       "    </tr>\n",
       "    <tr>\n",
       "      <th>HISPANIC OR LATINO</th>\n",
       "      <td></td>\n",
       "      <td>103 (2.7)</td>\n",
       "    </tr>\n",
       "    <tr>\n",
       "      <th>HISPANIC/LATINO - DOMINICAN</th>\n",
       "      <td></td>\n",
       "      <td>5 (0.1)</td>\n",
       "    </tr>\n",
       "    <tr>\n",
       "      <th>HISPANIC/LATINO - GUATEMALAN</th>\n",
       "      <td></td>\n",
       "      <td>1 (0.0)</td>\n",
       "    </tr>\n",
       "    <tr>\n",
       "      <th>HISPANIC/LATINO - PUERTO RICAN</th>\n",
       "      <td></td>\n",
       "      <td>17 (0.4)</td>\n",
       "    </tr>\n",
       "    <tr>\n",
       "      <th>MIDDLE EASTERN</th>\n",
       "      <td></td>\n",
       "      <td>2 (0.1)</td>\n",
       "    </tr>\n",
       "    <tr>\n",
       "      <th>MULTI RACE ETHNICITY</th>\n",
       "      <td></td>\n",
       "      <td>3 (0.1)</td>\n",
       "    </tr>\n",
       "    <tr>\n",
       "      <th>OTHER</th>\n",
       "      <td></td>\n",
       "      <td>78 (2.0)</td>\n",
       "    </tr>\n",
       "    <tr>\n",
       "      <th>PATIENT DECLINED TO ANSWER</th>\n",
       "      <td></td>\n",
       "      <td>32 (0.8)</td>\n",
       "    </tr>\n",
       "    <tr>\n",
       "      <th>PORTUGUESE</th>\n",
       "      <td></td>\n",
       "      <td>4 (0.1)</td>\n",
       "    </tr>\n",
       "    <tr>\n",
       "      <th>UNABLE TO OBTAIN</th>\n",
       "      <td></td>\n",
       "      <td>44 (1.1)</td>\n",
       "    </tr>\n",
       "    <tr>\n",
       "      <th>UNKNOWN/NOT SPECIFIED</th>\n",
       "      <td></td>\n",
       "      <td>440 (11.4)</td>\n",
       "    </tr>\n",
       "    <tr>\n",
       "      <th>WHITE</th>\n",
       "      <td></td>\n",
       "      <td>2716 (70.1)</td>\n",
       "    </tr>\n",
       "    <tr>\n",
       "      <th>WHITE - BRAZILIAN</th>\n",
       "      <td></td>\n",
       "      <td>4 (0.1)</td>\n",
       "    </tr>\n",
       "    <tr>\n",
       "      <th>WHITE - EASTERN EUROPEAN</th>\n",
       "      <td></td>\n",
       "      <td>1 (0.0)</td>\n",
       "    </tr>\n",
       "    <tr>\n",
       "      <th>WHITE - OTHER EUROPEAN</th>\n",
       "      <td></td>\n",
       "      <td>2 (0.1)</td>\n",
       "    </tr>\n",
       "    <tr>\n",
       "      <th>WHITE - RUSSIAN</th>\n",
       "      <td></td>\n",
       "      <td>5 (0.1)</td>\n",
       "    </tr>\n",
       "    <tr>\n",
       "      <th rowspan=\"2\" valign=\"top\">GENDER</th>\n",
       "      <th>F</th>\n",
       "      <td>0</td>\n",
       "      <td>1739 (44.9)</td>\n",
       "    </tr>\n",
       "    <tr>\n",
       "      <th>M</th>\n",
       "      <td></td>\n",
       "      <td>2136 (55.1)</td>\n",
       "    </tr>\n",
       "    <tr>\n",
       "      <th rowspan=\"6\" valign=\"top\">MARITAL_STATUS</th>\n",
       "      <th>DIVORCED</th>\n",
       "      <td>261</td>\n",
       "      <td>248 (6.9)</td>\n",
       "    </tr>\n",
       "    <tr>\n",
       "      <th>MARRIED</th>\n",
       "      <td></td>\n",
       "      <td>1766 (48.9)</td>\n",
       "    </tr>\n",
       "    <tr>\n",
       "      <th>SEPARATED</th>\n",
       "      <td></td>\n",
       "      <td>45 (1.2)</td>\n",
       "    </tr>\n",
       "    <tr>\n",
       "      <th>SINGLE</th>\n",
       "      <td></td>\n",
       "      <td>935 (25.9)</td>\n",
       "    </tr>\n",
       "    <tr>\n",
       "      <th>UNKNOWN (DEFAULT)</th>\n",
       "      <td></td>\n",
       "      <td>32 (0.9)</td>\n",
       "    </tr>\n",
       "    <tr>\n",
       "      <th>WIDOWED</th>\n",
       "      <td></td>\n",
       "      <td>588 (16.3)</td>\n",
       "    </tr>\n",
       "    <tr>\n",
       "      <th>ADMISSION_AGE</th>\n",
       "      <th></th>\n",
       "      <td>0</td>\n",
       "      <td>64.8 (16.9)</td>\n",
       "    </tr>\n",
       "  </tbody>\n",
       "</table>\n",
       "</div><br />[1] Warning, Hartigan's Dip Test reports possible multimodal distributions for: ADMISSION_AGE.<br />[2] Warning, test for normality reports non-normal distributions for: ADMISSION_AGE.<br />"
      ],
      "text/plain": [
       "                                              isnull      overall\n",
       "variable       level                                             \n",
       "n                                                            3875\n",
       "ETHNICITY      AMERICAN INDIAN/ALASKA NATIVE       0      2 (0.1)\n",
       "               ASIAN                                     58 (1.5)\n",
       "               ASIAN - ASIAN INDIAN                       4 (0.1)\n",
       "               ASIAN - CHINESE                           13 (0.3)\n",
       "               ASIAN - FILIPINO                           3 (0.1)\n",
       "               ASIAN - JAPANESE                           1 (0.0)\n",
       "               ASIAN - OTHER                              2 (0.1)\n",
       "               ASIAN - VIETNAMESE                         4 (0.1)\n",
       "               BLACK/AFRICAN                              2 (0.1)\n",
       "               BLACK/AFRICAN AMERICAN                   319 (8.2)\n",
       "               BLACK/CAPE VERDEAN                         7 (0.2)\n",
       "               BLACK/HAITIAN                              3 (0.1)\n",
       "               HISPANIC OR LATINO                       103 (2.7)\n",
       "               HISPANIC/LATINO - DOMINICAN                5 (0.1)\n",
       "               HISPANIC/LATINO - GUATEMALAN               1 (0.0)\n",
       "               HISPANIC/LATINO - PUERTO RICAN            17 (0.4)\n",
       "               MIDDLE EASTERN                             2 (0.1)\n",
       "               MULTI RACE ETHNICITY                       3 (0.1)\n",
       "               OTHER                                     78 (2.0)\n",
       "               PATIENT DECLINED TO ANSWER                32 (0.8)\n",
       "               PORTUGUESE                                 4 (0.1)\n",
       "               UNABLE TO OBTAIN                          44 (1.1)\n",
       "               UNKNOWN/NOT SPECIFIED                   440 (11.4)\n",
       "               WHITE                                  2716 (70.1)\n",
       "               WHITE - BRAZILIAN                          4 (0.1)\n",
       "               WHITE - EASTERN EUROPEAN                   1 (0.0)\n",
       "               WHITE - OTHER EUROPEAN                     2 (0.1)\n",
       "               WHITE - RUSSIAN                            5 (0.1)\n",
       "GENDER         F                                   0  1739 (44.9)\n",
       "               M                                      2136 (55.1)\n",
       "MARITAL_STATUS DIVORCED                          261    248 (6.9)\n",
       "               MARRIED                                1766 (48.9)\n",
       "               SEPARATED                                 45 (1.2)\n",
       "               SINGLE                                  935 (25.9)\n",
       "               UNKNOWN (DEFAULT)                         32 (0.9)\n",
       "               WIDOWED                                 588 (16.3)\n",
       "ADMISSION_AGE                                      0  64.8 (16.9)\n",
       "[1] Warning, Hartigan's Dip Test reports possible multimodal distributions for: ADMISSION_AGE.\n",
       "[2] Warning, test for normality reports non-normal distributions for: ADMISSION_AGE."
      ]
     },
     "execution_count": 22,
     "metadata": {},
     "output_type": "execute_result"
    }
   ],
   "source": [
    "TableOne(f, columns, categorical)"
   ]
  },
  {
   "cell_type": "code",
   "execution_count": null,
   "metadata": {},
   "outputs": [],
   "source": []
  },
  {
   "cell_type": "code",
   "execution_count": 26,
   "metadata": {},
   "outputs": [],
   "source": [
    "t = x[x.HADM_ID.isin(df_physician[df_physician.Label == 1].HADM_ID.unique())]\n",
    "f = x[x.HADM_ID.isin(df_physician[df_physician.Label == 0].HADM_ID.unique())]"
   ]
  },
  {
   "cell_type": "code",
   "execution_count": 27,
   "metadata": {},
   "outputs": [
    {
     "data": {
      "text/html": [
       "<div>\n",
       "<style scoped>\n",
       "    .dataframe tbody tr th:only-of-type {\n",
       "        vertical-align: middle;\n",
       "    }\n",
       "\n",
       "    .dataframe tbody tr th {\n",
       "        vertical-align: top;\n",
       "    }\n",
       "\n",
       "    .dataframe thead th {\n",
       "        text-align: right;\n",
       "    }\n",
       "</style>\n",
       "<table border=\"1\" class=\"dataframe\">\n",
       "  <thead>\n",
       "    <tr style=\"text-align: right;\">\n",
       "      <th></th>\n",
       "      <th></th>\n",
       "      <th>isnull</th>\n",
       "      <th>overall</th>\n",
       "    </tr>\n",
       "    <tr>\n",
       "      <th>variable</th>\n",
       "      <th>level</th>\n",
       "      <th></th>\n",
       "      <th></th>\n",
       "    </tr>\n",
       "  </thead>\n",
       "  <tbody>\n",
       "    <tr>\n",
       "      <th>n</th>\n",
       "      <th></th>\n",
       "      <td></td>\n",
       "      <td>636</td>\n",
       "    </tr>\n",
       "    <tr>\n",
       "      <th rowspan=\"20\" valign=\"top\">ETHNICITY</th>\n",
       "      <th>AMERICAN INDIAN/ALASKA NATIVE FEDERALLY RECOGNIZED TRIBE</th>\n",
       "      <td>0</td>\n",
       "      <td>1 (0.2)</td>\n",
       "    </tr>\n",
       "    <tr>\n",
       "      <th>ASIAN</th>\n",
       "      <td></td>\n",
       "      <td>10 (1.6)</td>\n",
       "    </tr>\n",
       "    <tr>\n",
       "      <th>ASIAN - ASIAN INDIAN</th>\n",
       "      <td></td>\n",
       "      <td>3 (0.5)</td>\n",
       "    </tr>\n",
       "    <tr>\n",
       "      <th>ASIAN - CHINESE</th>\n",
       "      <td></td>\n",
       "      <td>5 (0.8)</td>\n",
       "    </tr>\n",
       "    <tr>\n",
       "      <th>ASIAN - VIETNAMESE</th>\n",
       "      <td></td>\n",
       "      <td>1 (0.2)</td>\n",
       "    </tr>\n",
       "    <tr>\n",
       "      <th>BLACK/AFRICAN</th>\n",
       "      <td></td>\n",
       "      <td>1 (0.2)</td>\n",
       "    </tr>\n",
       "    <tr>\n",
       "      <th>BLACK/AFRICAN AMERICAN</th>\n",
       "      <td></td>\n",
       "      <td>46 (7.2)</td>\n",
       "    </tr>\n",
       "    <tr>\n",
       "      <th>BLACK/CAPE VERDEAN</th>\n",
       "      <td></td>\n",
       "      <td>3 (0.5)</td>\n",
       "    </tr>\n",
       "    <tr>\n",
       "      <th>HISPANIC OR LATINO</th>\n",
       "      <td></td>\n",
       "      <td>11 (1.7)</td>\n",
       "    </tr>\n",
       "    <tr>\n",
       "      <th>HISPANIC/LATINO - DOMINICAN</th>\n",
       "      <td></td>\n",
       "      <td>1 (0.2)</td>\n",
       "    </tr>\n",
       "    <tr>\n",
       "      <th>HISPANIC/LATINO - MEXICAN</th>\n",
       "      <td></td>\n",
       "      <td>1 (0.2)</td>\n",
       "    </tr>\n",
       "    <tr>\n",
       "      <th>HISPANIC/LATINO - PUERTO RICAN</th>\n",
       "      <td></td>\n",
       "      <td>8 (1.3)</td>\n",
       "    </tr>\n",
       "    <tr>\n",
       "      <th>HISPANIC/LATINO - SALVADORAN</th>\n",
       "      <td></td>\n",
       "      <td>1 (0.2)</td>\n",
       "    </tr>\n",
       "    <tr>\n",
       "      <th>MULTI RACE ETHNICITY</th>\n",
       "      <td></td>\n",
       "      <td>2 (0.3)</td>\n",
       "    </tr>\n",
       "    <tr>\n",
       "      <th>OTHER</th>\n",
       "      <td></td>\n",
       "      <td>10 (1.6)</td>\n",
       "    </tr>\n",
       "    <tr>\n",
       "      <th>PATIENT DECLINED TO ANSWER</th>\n",
       "      <td></td>\n",
       "      <td>5 (0.8)</td>\n",
       "    </tr>\n",
       "    <tr>\n",
       "      <th>PORTUGUESE</th>\n",
       "      <td></td>\n",
       "      <td>3 (0.5)</td>\n",
       "    </tr>\n",
       "    <tr>\n",
       "      <th>UNABLE TO OBTAIN</th>\n",
       "      <td></td>\n",
       "      <td>26 (4.1)</td>\n",
       "    </tr>\n",
       "    <tr>\n",
       "      <th>UNKNOWN/NOT SPECIFIED</th>\n",
       "      <td></td>\n",
       "      <td>15 (2.4)</td>\n",
       "    </tr>\n",
       "    <tr>\n",
       "      <th>WHITE</th>\n",
       "      <td></td>\n",
       "      <td>483 (75.9)</td>\n",
       "    </tr>\n",
       "    <tr>\n",
       "      <th rowspan=\"2\" valign=\"top\">GENDER</th>\n",
       "      <th>F</th>\n",
       "      <td>0</td>\n",
       "      <td>264 (41.5)</td>\n",
       "    </tr>\n",
       "    <tr>\n",
       "      <th>M</th>\n",
       "      <td></td>\n",
       "      <td>372 (58.5)</td>\n",
       "    </tr>\n",
       "    <tr>\n",
       "      <th rowspan=\"6\" valign=\"top\">MARITAL_STATUS</th>\n",
       "      <th>DIVORCED</th>\n",
       "      <td>27</td>\n",
       "      <td>44 (7.2)</td>\n",
       "    </tr>\n",
       "    <tr>\n",
       "      <th>LIFE PARTNER</th>\n",
       "      <td></td>\n",
       "      <td>1 (0.2)</td>\n",
       "    </tr>\n",
       "    <tr>\n",
       "      <th>MARRIED</th>\n",
       "      <td></td>\n",
       "      <td>311 (51.1)</td>\n",
       "    </tr>\n",
       "    <tr>\n",
       "      <th>SEPARATED</th>\n",
       "      <td></td>\n",
       "      <td>10 (1.6)</td>\n",
       "    </tr>\n",
       "    <tr>\n",
       "      <th>SINGLE</th>\n",
       "      <td></td>\n",
       "      <td>184 (30.2)</td>\n",
       "    </tr>\n",
       "    <tr>\n",
       "      <th>WIDOWED</th>\n",
       "      <td></td>\n",
       "      <td>59 (9.7)</td>\n",
       "    </tr>\n",
       "    <tr>\n",
       "      <th>ADMISSION_AGE</th>\n",
       "      <th></th>\n",
       "      <td>0</td>\n",
       "      <td>62.9 (16.2)</td>\n",
       "    </tr>\n",
       "  </tbody>\n",
       "</table>\n",
       "</div><br />[1] Warning, test for normality reports non-normal distributions for: ADMISSION_AGE.<br />"
      ],
      "text/plain": [
       "                                                                  isnull      overall\n",
       "variable       level                                                                 \n",
       "n                                                                                 636\n",
       "ETHNICITY      AMERICAN INDIAN/ALASKA NATIVE FEDERALLY RECOGNI...      0      1 (0.2)\n",
       "               ASIAN                                                         10 (1.6)\n",
       "               ASIAN - ASIAN INDIAN                                           3 (0.5)\n",
       "               ASIAN - CHINESE                                                5 (0.8)\n",
       "               ASIAN - VIETNAMESE                                             1 (0.2)\n",
       "               BLACK/AFRICAN                                                  1 (0.2)\n",
       "               BLACK/AFRICAN AMERICAN                                        46 (7.2)\n",
       "               BLACK/CAPE VERDEAN                                             3 (0.5)\n",
       "               HISPANIC OR LATINO                                            11 (1.7)\n",
       "               HISPANIC/LATINO - DOMINICAN                                    1 (0.2)\n",
       "               HISPANIC/LATINO - MEXICAN                                      1 (0.2)\n",
       "               HISPANIC/LATINO - PUERTO RICAN                                 8 (1.3)\n",
       "               HISPANIC/LATINO - SALVADORAN                                   1 (0.2)\n",
       "               MULTI RACE ETHNICITY                                           2 (0.3)\n",
       "               OTHER                                                         10 (1.6)\n",
       "               PATIENT DECLINED TO ANSWER                                     5 (0.8)\n",
       "               PORTUGUESE                                                     3 (0.5)\n",
       "               UNABLE TO OBTAIN                                              26 (4.1)\n",
       "               UNKNOWN/NOT SPECIFIED                                         15 (2.4)\n",
       "               WHITE                                                       483 (75.9)\n",
       "GENDER         F                                                       0   264 (41.5)\n",
       "               M                                                           372 (58.5)\n",
       "MARITAL_STATUS DIVORCED                                               27     44 (7.2)\n",
       "               LIFE PARTNER                                                   1 (0.2)\n",
       "               MARRIED                                                     311 (51.1)\n",
       "               SEPARATED                                                     10 (1.6)\n",
       "               SINGLE                                                      184 (30.2)\n",
       "               WIDOWED                                                       59 (9.7)\n",
       "ADMISSION_AGE                                                          0  62.9 (16.2)\n",
       "[1] Warning, test for normality reports non-normal distributions for: ADMISSION_AGE."
      ]
     },
     "execution_count": 27,
     "metadata": {},
     "output_type": "execute_result"
    }
   ],
   "source": [
    "TableOne(t, columns, categorical)"
   ]
  },
  {
   "cell_type": "code",
   "execution_count": 28,
   "metadata": {},
   "outputs": [
    {
     "data": {
      "text/html": [
       "<div>\n",
       "<style scoped>\n",
       "    .dataframe tbody tr th:only-of-type {\n",
       "        vertical-align: middle;\n",
       "    }\n",
       "\n",
       "    .dataframe tbody tr th {\n",
       "        vertical-align: top;\n",
       "    }\n",
       "\n",
       "    .dataframe thead th {\n",
       "        text-align: right;\n",
       "    }\n",
       "</style>\n",
       "<table border=\"1\" class=\"dataframe\">\n",
       "  <thead>\n",
       "    <tr style=\"text-align: right;\">\n",
       "      <th></th>\n",
       "      <th></th>\n",
       "      <th>isnull</th>\n",
       "      <th>overall</th>\n",
       "    </tr>\n",
       "    <tr>\n",
       "      <th>variable</th>\n",
       "      <th>level</th>\n",
       "      <th></th>\n",
       "      <th></th>\n",
       "    </tr>\n",
       "  </thead>\n",
       "  <tbody>\n",
       "    <tr>\n",
       "      <th>n</th>\n",
       "      <th></th>\n",
       "      <td></td>\n",
       "      <td>902</td>\n",
       "    </tr>\n",
       "    <tr>\n",
       "      <th rowspan=\"25\" valign=\"top\">ETHNICITY</th>\n",
       "      <th>ASIAN</th>\n",
       "      <td>0</td>\n",
       "      <td>14 (1.6)</td>\n",
       "    </tr>\n",
       "    <tr>\n",
       "      <th>ASIAN - ASIAN INDIAN</th>\n",
       "      <td></td>\n",
       "      <td>3 (0.3)</td>\n",
       "    </tr>\n",
       "    <tr>\n",
       "      <th>ASIAN - CHINESE</th>\n",
       "      <td></td>\n",
       "      <td>5 (0.6)</td>\n",
       "    </tr>\n",
       "    <tr>\n",
       "      <th>ASIAN - FILIPINO</th>\n",
       "      <td></td>\n",
       "      <td>2 (0.2)</td>\n",
       "    </tr>\n",
       "    <tr>\n",
       "      <th>ASIAN - JAPANESE</th>\n",
       "      <td></td>\n",
       "      <td>1 (0.1)</td>\n",
       "    </tr>\n",
       "    <tr>\n",
       "      <th>ASIAN - OTHER</th>\n",
       "      <td></td>\n",
       "      <td>1 (0.1)</td>\n",
       "    </tr>\n",
       "    <tr>\n",
       "      <th>ASIAN - VIETNAMESE</th>\n",
       "      <td></td>\n",
       "      <td>1 (0.1)</td>\n",
       "    </tr>\n",
       "    <tr>\n",
       "      <th>BLACK/AFRICAN</th>\n",
       "      <td></td>\n",
       "      <td>1 (0.1)</td>\n",
       "    </tr>\n",
       "    <tr>\n",
       "      <th>BLACK/AFRICAN AMERICAN</th>\n",
       "      <td></td>\n",
       "      <td>79 (8.8)</td>\n",
       "    </tr>\n",
       "    <tr>\n",
       "      <th>BLACK/CAPE VERDEAN</th>\n",
       "      <td></td>\n",
       "      <td>4 (0.4)</td>\n",
       "    </tr>\n",
       "    <tr>\n",
       "      <th>BLACK/HAITIAN</th>\n",
       "      <td></td>\n",
       "      <td>1 (0.1)</td>\n",
       "    </tr>\n",
       "    <tr>\n",
       "      <th>HISPANIC OR LATINO</th>\n",
       "      <td></td>\n",
       "      <td>21 (2.3)</td>\n",
       "    </tr>\n",
       "    <tr>\n",
       "      <th>HISPANIC/LATINO - DOMINICAN</th>\n",
       "      <td></td>\n",
       "      <td>2 (0.2)</td>\n",
       "    </tr>\n",
       "    <tr>\n",
       "      <th>HISPANIC/LATINO - GUATEMALAN</th>\n",
       "      <td></td>\n",
       "      <td>1 (0.1)</td>\n",
       "    </tr>\n",
       "    <tr>\n",
       "      <th>HISPANIC/LATINO - PUERTO RICAN</th>\n",
       "      <td></td>\n",
       "      <td>10 (1.1)</td>\n",
       "    </tr>\n",
       "    <tr>\n",
       "      <th>MIDDLE EASTERN</th>\n",
       "      <td></td>\n",
       "      <td>2 (0.2)</td>\n",
       "    </tr>\n",
       "    <tr>\n",
       "      <th>OTHER</th>\n",
       "      <td></td>\n",
       "      <td>18 (2.0)</td>\n",
       "    </tr>\n",
       "    <tr>\n",
       "      <th>PATIENT DECLINED TO ANSWER</th>\n",
       "      <td></td>\n",
       "      <td>8 (0.9)</td>\n",
       "    </tr>\n",
       "    <tr>\n",
       "      <th>PORTUGUESE</th>\n",
       "      <td></td>\n",
       "      <td>2 (0.2)</td>\n",
       "    </tr>\n",
       "    <tr>\n",
       "      <th>UNABLE TO OBTAIN</th>\n",
       "      <td></td>\n",
       "      <td>22 (2.4)</td>\n",
       "    </tr>\n",
       "    <tr>\n",
       "      <th>UNKNOWN/NOT SPECIFIED</th>\n",
       "      <td></td>\n",
       "      <td>27 (3.0)</td>\n",
       "    </tr>\n",
       "    <tr>\n",
       "      <th>WHITE</th>\n",
       "      <td></td>\n",
       "      <td>673 (74.6)</td>\n",
       "    </tr>\n",
       "    <tr>\n",
       "      <th>WHITE - BRAZILIAN</th>\n",
       "      <td></td>\n",
       "      <td>1 (0.1)</td>\n",
       "    </tr>\n",
       "    <tr>\n",
       "      <th>WHITE - OTHER EUROPEAN</th>\n",
       "      <td></td>\n",
       "      <td>1 (0.1)</td>\n",
       "    </tr>\n",
       "    <tr>\n",
       "      <th>WHITE - RUSSIAN</th>\n",
       "      <td></td>\n",
       "      <td>2 (0.2)</td>\n",
       "    </tr>\n",
       "    <tr>\n",
       "      <th rowspan=\"2\" valign=\"top\">GENDER</th>\n",
       "      <th>F</th>\n",
       "      <td>0</td>\n",
       "      <td>413 (45.8)</td>\n",
       "    </tr>\n",
       "    <tr>\n",
       "      <th>M</th>\n",
       "      <td></td>\n",
       "      <td>489 (54.2)</td>\n",
       "    </tr>\n",
       "    <tr>\n",
       "      <th rowspan=\"6\" valign=\"top\">MARITAL_STATUS</th>\n",
       "      <th>DIVORCED</th>\n",
       "      <td>37</td>\n",
       "      <td>61 (7.1)</td>\n",
       "    </tr>\n",
       "    <tr>\n",
       "      <th>MARRIED</th>\n",
       "      <td></td>\n",
       "      <td>405 (46.8)</td>\n",
       "    </tr>\n",
       "    <tr>\n",
       "      <th>SEPARATED</th>\n",
       "      <td></td>\n",
       "      <td>10 (1.2)</td>\n",
       "    </tr>\n",
       "    <tr>\n",
       "      <th>SINGLE</th>\n",
       "      <td></td>\n",
       "      <td>246 (28.4)</td>\n",
       "    </tr>\n",
       "    <tr>\n",
       "      <th>UNKNOWN (DEFAULT)</th>\n",
       "      <td></td>\n",
       "      <td>3 (0.3)</td>\n",
       "    </tr>\n",
       "    <tr>\n",
       "      <th>WIDOWED</th>\n",
       "      <td></td>\n",
       "      <td>140 (16.2)</td>\n",
       "    </tr>\n",
       "    <tr>\n",
       "      <th>ADMISSION_AGE</th>\n",
       "      <th></th>\n",
       "      <td>0</td>\n",
       "      <td>65.0 (16.4)</td>\n",
       "    </tr>\n",
       "  </tbody>\n",
       "</table>\n",
       "</div><br />[1] Warning, Hartigan's Dip Test reports possible multimodal distributions for: ADMISSION_AGE.<br />[2] Warning, test for normality reports non-normal distributions for: ADMISSION_AGE.<br />"
      ],
      "text/plain": [
       "                                              isnull      overall\n",
       "variable       level                                             \n",
       "n                                                             902\n",
       "ETHNICITY      ASIAN                               0     14 (1.6)\n",
       "               ASIAN - ASIAN INDIAN                       3 (0.3)\n",
       "               ASIAN - CHINESE                            5 (0.6)\n",
       "               ASIAN - FILIPINO                           2 (0.2)\n",
       "               ASIAN - JAPANESE                           1 (0.1)\n",
       "               ASIAN - OTHER                              1 (0.1)\n",
       "               ASIAN - VIETNAMESE                         1 (0.1)\n",
       "               BLACK/AFRICAN                              1 (0.1)\n",
       "               BLACK/AFRICAN AMERICAN                    79 (8.8)\n",
       "               BLACK/CAPE VERDEAN                         4 (0.4)\n",
       "               BLACK/HAITIAN                              1 (0.1)\n",
       "               HISPANIC OR LATINO                        21 (2.3)\n",
       "               HISPANIC/LATINO - DOMINICAN                2 (0.2)\n",
       "               HISPANIC/LATINO - GUATEMALAN               1 (0.1)\n",
       "               HISPANIC/LATINO - PUERTO RICAN            10 (1.1)\n",
       "               MIDDLE EASTERN                             2 (0.2)\n",
       "               OTHER                                     18 (2.0)\n",
       "               PATIENT DECLINED TO ANSWER                 8 (0.9)\n",
       "               PORTUGUESE                                 2 (0.2)\n",
       "               UNABLE TO OBTAIN                          22 (2.4)\n",
       "               UNKNOWN/NOT SPECIFIED                     27 (3.0)\n",
       "               WHITE                                   673 (74.6)\n",
       "               WHITE - BRAZILIAN                          1 (0.1)\n",
       "               WHITE - OTHER EUROPEAN                     1 (0.1)\n",
       "               WHITE - RUSSIAN                            2 (0.2)\n",
       "GENDER         F                                   0   413 (45.8)\n",
       "               M                                       489 (54.2)\n",
       "MARITAL_STATUS DIVORCED                           37     61 (7.1)\n",
       "               MARRIED                                 405 (46.8)\n",
       "               SEPARATED                                 10 (1.2)\n",
       "               SINGLE                                  246 (28.4)\n",
       "               UNKNOWN (DEFAULT)                          3 (0.3)\n",
       "               WIDOWED                                 140 (16.2)\n",
       "ADMISSION_AGE                                      0  65.0 (16.4)\n",
       "[1] Warning, Hartigan's Dip Test reports possible multimodal distributions for: ADMISSION_AGE.\n",
       "[2] Warning, test for normality reports non-normal distributions for: ADMISSION_AGE."
      ]
     },
     "execution_count": 28,
     "metadata": {},
     "output_type": "execute_result"
    }
   ],
   "source": [
    "TableOne(f, columns, categorical)"
   ]
  },
  {
   "cell_type": "code",
   "execution_count": 63,
   "metadata": {},
   "outputs": [],
   "source": [
    "import re\n",
    "import string\n",
    "\n",
    "def preprocess1(x):\n",
    "    y=re.sub('\\\\[(.*?)\\\\]','',x) #remove de-identified brackets\n",
    "    y=re.sub('[0-9]+\\.','',y) #remove 1.2. since the segmenter segments based on this\n",
    "    y=re.sub('dr\\.','doctor',y)\n",
    "    y=re.sub('m\\.d\\.','md',y)\n",
    "    y=re.sub('--|__|==','',y)\n",
    "    \n",
    "    # remove punctuation, digits, spaces\n",
    "    #y = y.translate(str.maketrans(\"\", \"\", string.punctuation))\n",
    "    y = y.translate(str.maketrans(\"\", \"\", string.digits))\n",
    "    y = \" \".join(y.split())\n",
    "    return y\n",
    "\n",
    "def preprocessing_note(df_less_n): \n",
    "    df_less_n['TEXT']=df_less_n['TEXT'].fillna(' ')\n",
    "    df_less_n['TEXT']=df_less_n['TEXT'].str.replace('\\n',' ')\n",
    "    df_less_n['TEXT']=df_less_n['TEXT'].str.replace('\\r',' ')\n",
    "    df_less_n['TEXT']=df_less_n['TEXT'].apply(str.strip)\n",
    "    df_less_n['TEXT']=df_less_n['TEXT'].str.lower()\n",
    "\n",
    "    df_less_n['TEXT']=df_less_n['TEXT'].apply(lambda x: preprocess1(x))\n",
    "    \n",
    "    df_less_n['# of tokens'] = df_less_n['TEXT'].str.split().str.len()\n",
    "    df_less_n = df_less_n[df_less_n['# of tokens'] > 5]\n",
    "    return df_less_n"
   ]
  },
  {
   "cell_type": "code",
   "execution_count": 64,
   "metadata": {},
   "outputs": [],
   "source": [
    "def preprocessing(df_less_n, max_seq_len): \n",
    "    df_less_n['TEXT']=df_less_n['TEXT'].fillna(' ')\n",
    "    df_less_n['TEXT']=df_less_n['TEXT'].str.replace('\\n',' ')\n",
    "    df_less_n['TEXT']=df_less_n['TEXT'].str.replace('\\r',' ')\n",
    "    df_less_n['TEXT']=df_less_n['TEXT'].apply(str.strip)\n",
    "    df_less_n['TEXT']=df_less_n['TEXT'].str.lower()\n",
    "\n",
    "    df_less_n['TEXT']=df_less_n['TEXT'].apply(lambda x: preprocess1(x))\n",
    "    df_less_n['# of tokens'] = df_less_n['TEXT'].str.split().str.len()\n",
    "    df_less_n = df_less_n[df_less_n['# of tokens'] > 5]\n",
    "    \n",
    "    df_concat = pd.DataFrame(df_less_n.groupby('HADM_ID')['TEXT'].apply(lambda x: \"%s\" % ' '.join(x))).reset_index()\n",
    "    df_concat = df_concat.assign(Label = df_concat['HADM_ID'].apply(lambda x: df_less_n[df_less_n['HADM_ID']==x].Label.values[0]))\n",
    "    df_concat = df_concat.assign(DEATH_90 = df_concat['HADM_ID'].apply(lambda x: df_less_n[df_less_n['HADM_ID']==x].DEATH_90.values[0]))\n",
    "\n",
    "    df_less_n = df_concat\n",
    "    df_len = len(df_less_n)\n",
    "\n",
    "    want=pd.DataFrame({'HADM_ID':[],'TEXT':[],'Label':[],'DEATH_90':[]})\n",
    "    for i in tqdm(range(df_len)):\n",
    "        x=df_less_n.TEXT.iloc[i].split()\n",
    "        n=int(len(x)/max_seq_len)\n",
    "        for j in range(n):\n",
    "            want=want.append({'TEXT':' '.join(x[j*max_seq_len:(j+1)*max_seq_len]),'Label':df_less_n.Label.iloc[i],'DEATH_90': df_less_n.DEATH_90.iloc[i], 'HADM_ID':df_less_n.HADM_ID.iloc[i]},ignore_index=True)\n",
    "        if len(x)%max_seq_len>100:\n",
    "            want=want.append({'TEXT':' '.join(x[-(len(x)%max_seq_len):]),'Label':df_less_n.Label.iloc[i],'DEATH_90': df_less_n.DEATH_90.iloc[i],'HADM_ID':df_less_n.HADM_ID.iloc[i]},ignore_index=True)\n",
    "        \n",
    "    return want"
   ]
  },
  {
   "cell_type": "code",
   "execution_count": null,
   "metadata": {},
   "outputs": [],
   "source": []
  },
  {
   "cell_type": "code",
   "execution_count": null,
   "metadata": {},
   "outputs": [],
   "source": []
  },
  {
   "cell_type": "code",
   "execution_count": null,
   "metadata": {},
   "outputs": [],
   "source": []
  },
  {
   "cell_type": "code",
   "execution_count": null,
   "metadata": {},
   "outputs": [],
   "source": []
  },
  {
   "cell_type": "code",
   "execution_count": null,
   "metadata": {},
   "outputs": [],
   "source": []
  },
  {
   "cell_type": "code",
   "execution_count": 65,
   "metadata": {},
   "outputs": [],
   "source": [
    "import copy\n",
    "df_less_n_use = copy.deepcopy(df_less_n_d2)"
   ]
  },
  {
   "cell_type": "code",
   "execution_count": 66,
   "metadata": {},
   "outputs": [
    {
     "ename": "KeyboardInterrupt",
     "evalue": "",
     "output_type": "error",
     "traceback": [
      "\u001b[0;31m---------------------------------------------------------------------------\u001b[0m",
      "\u001b[0;31mKeyboardInterrupt\u001b[0m                         Traceback (most recent call last)",
      "\u001b[0;32m<ipython-input-66-c59d1a99b157>\u001b[0m in \u001b[0;36m<module>\u001b[0;34m()\u001b[0m\n\u001b[0;32m----> 1\u001b[0;31m \u001b[0mdf_use_max_len\u001b[0m \u001b[0;34m=\u001b[0m \u001b[0mpreprocessing\u001b[0m\u001b[0;34m(\u001b[0m\u001b[0mdf_less_n_use\u001b[0m\u001b[0;34m,\u001b[0m \u001b[0;36m318\u001b[0m\u001b[0;34m)\u001b[0m\u001b[0;34m\u001b[0m\u001b[0m\n\u001b[0m",
      "\u001b[0;32m<ipython-input-64-18375d136c38>\u001b[0m in \u001b[0;36mpreprocessing\u001b[0;34m(df_less_n, max_seq_len)\u001b[0m\n\u001b[1;32m     11\u001b[0m \u001b[0;34m\u001b[0m\u001b[0m\n\u001b[1;32m     12\u001b[0m     \u001b[0mdf_concat\u001b[0m \u001b[0;34m=\u001b[0m \u001b[0mpd\u001b[0m\u001b[0;34m.\u001b[0m\u001b[0mDataFrame\u001b[0m\u001b[0;34m(\u001b[0m\u001b[0mdf_less_n\u001b[0m\u001b[0;34m.\u001b[0m\u001b[0mgroupby\u001b[0m\u001b[0;34m(\u001b[0m\u001b[0;34m'HADM_ID'\u001b[0m\u001b[0;34m)\u001b[0m\u001b[0;34m[\u001b[0m\u001b[0;34m'TEXT'\u001b[0m\u001b[0;34m]\u001b[0m\u001b[0;34m.\u001b[0m\u001b[0mapply\u001b[0m\u001b[0;34m(\u001b[0m\u001b[0;32mlambda\u001b[0m \u001b[0mx\u001b[0m\u001b[0;34m:\u001b[0m \u001b[0;34m\"%s\"\u001b[0m \u001b[0;34m%\u001b[0m \u001b[0;34m' '\u001b[0m\u001b[0;34m.\u001b[0m\u001b[0mjoin\u001b[0m\u001b[0;34m(\u001b[0m\u001b[0mx\u001b[0m\u001b[0;34m)\u001b[0m\u001b[0;34m)\u001b[0m\u001b[0;34m)\u001b[0m\u001b[0;34m.\u001b[0m\u001b[0mreset_index\u001b[0m\u001b[0;34m(\u001b[0m\u001b[0;34m)\u001b[0m\u001b[0;34m\u001b[0m\u001b[0m\n\u001b[0;32m---> 13\u001b[0;31m     \u001b[0mdf_concat\u001b[0m \u001b[0;34m=\u001b[0m \u001b[0mdf_concat\u001b[0m\u001b[0;34m.\u001b[0m\u001b[0massign\u001b[0m\u001b[0;34m(\u001b[0m\u001b[0mLabel\u001b[0m \u001b[0;34m=\u001b[0m \u001b[0mdf_concat\u001b[0m\u001b[0;34m[\u001b[0m\u001b[0;34m'HADM_ID'\u001b[0m\u001b[0;34m]\u001b[0m\u001b[0;34m.\u001b[0m\u001b[0mapply\u001b[0m\u001b[0;34m(\u001b[0m\u001b[0;32mlambda\u001b[0m \u001b[0mx\u001b[0m\u001b[0;34m:\u001b[0m \u001b[0mdf_less_n\u001b[0m\u001b[0;34m[\u001b[0m\u001b[0mdf_less_n\u001b[0m\u001b[0;34m[\u001b[0m\u001b[0;34m'HADM_ID'\u001b[0m\u001b[0;34m]\u001b[0m\u001b[0;34m==\u001b[0m\u001b[0mx\u001b[0m\u001b[0;34m]\u001b[0m\u001b[0;34m.\u001b[0m\u001b[0mLabel\u001b[0m\u001b[0;34m.\u001b[0m\u001b[0mvalues\u001b[0m\u001b[0;34m[\u001b[0m\u001b[0;36m0\u001b[0m\u001b[0;34m]\u001b[0m\u001b[0;34m)\u001b[0m\u001b[0;34m)\u001b[0m\u001b[0;34m\u001b[0m\u001b[0m\n\u001b[0m\u001b[1;32m     14\u001b[0m     \u001b[0mdf_concat\u001b[0m \u001b[0;34m=\u001b[0m \u001b[0mdf_concat\u001b[0m\u001b[0;34m.\u001b[0m\u001b[0massign\u001b[0m\u001b[0;34m(\u001b[0m\u001b[0mDEATH_90\u001b[0m \u001b[0;34m=\u001b[0m \u001b[0mdf_concat\u001b[0m\u001b[0;34m[\u001b[0m\u001b[0;34m'HADM_ID'\u001b[0m\u001b[0;34m]\u001b[0m\u001b[0;34m.\u001b[0m\u001b[0mapply\u001b[0m\u001b[0;34m(\u001b[0m\u001b[0;32mlambda\u001b[0m \u001b[0mx\u001b[0m\u001b[0;34m:\u001b[0m \u001b[0mdf_less_n\u001b[0m\u001b[0;34m[\u001b[0m\u001b[0mdf_less_n\u001b[0m\u001b[0;34m[\u001b[0m\u001b[0;34m'HADM_ID'\u001b[0m\u001b[0;34m]\u001b[0m\u001b[0;34m==\u001b[0m\u001b[0mx\u001b[0m\u001b[0;34m]\u001b[0m\u001b[0;34m.\u001b[0m\u001b[0mDEATH_90\u001b[0m\u001b[0;34m.\u001b[0m\u001b[0mvalues\u001b[0m\u001b[0;34m[\u001b[0m\u001b[0;36m0\u001b[0m\u001b[0;34m]\u001b[0m\u001b[0;34m)\u001b[0m\u001b[0;34m)\u001b[0m\u001b[0;34m\u001b[0m\u001b[0m\n\u001b[1;32m     15\u001b[0m \u001b[0;34m\u001b[0m\u001b[0m\n",
      "\u001b[0;32m/share/apps/python3/3.6.3/intel/lib/python3.6/site-packages/pandas-0.22.0-py3.6-linux-x86_64.egg/pandas/core/series.py\u001b[0m in \u001b[0;36mapply\u001b[0;34m(self, func, convert_dtype, args, **kwds)\u001b[0m\n\u001b[1;32m   2549\u001b[0m             \u001b[0;32melse\u001b[0m\u001b[0;34m:\u001b[0m\u001b[0;34m\u001b[0m\u001b[0m\n\u001b[1;32m   2550\u001b[0m                 \u001b[0mvalues\u001b[0m \u001b[0;34m=\u001b[0m \u001b[0mself\u001b[0m\u001b[0;34m.\u001b[0m\u001b[0masobject\u001b[0m\u001b[0;34m\u001b[0m\u001b[0m\n\u001b[0;32m-> 2551\u001b[0;31m                 \u001b[0mmapped\u001b[0m \u001b[0;34m=\u001b[0m \u001b[0mlib\u001b[0m\u001b[0;34m.\u001b[0m\u001b[0mmap_infer\u001b[0m\u001b[0;34m(\u001b[0m\u001b[0mvalues\u001b[0m\u001b[0;34m,\u001b[0m \u001b[0mf\u001b[0m\u001b[0;34m,\u001b[0m \u001b[0mconvert\u001b[0m\u001b[0;34m=\u001b[0m\u001b[0mconvert_dtype\u001b[0m\u001b[0;34m)\u001b[0m\u001b[0;34m\u001b[0m\u001b[0m\n\u001b[0m\u001b[1;32m   2552\u001b[0m \u001b[0;34m\u001b[0m\u001b[0m\n\u001b[1;32m   2553\u001b[0m         \u001b[0;32mif\u001b[0m \u001b[0mlen\u001b[0m\u001b[0;34m(\u001b[0m\u001b[0mmapped\u001b[0m\u001b[0;34m)\u001b[0m \u001b[0;32mand\u001b[0m \u001b[0misinstance\u001b[0m\u001b[0;34m(\u001b[0m\u001b[0mmapped\u001b[0m\u001b[0;34m[\u001b[0m\u001b[0;36m0\u001b[0m\u001b[0;34m]\u001b[0m\u001b[0;34m,\u001b[0m \u001b[0mSeries\u001b[0m\u001b[0;34m)\u001b[0m\u001b[0;34m:\u001b[0m\u001b[0;34m\u001b[0m\u001b[0m\n",
      "\u001b[0;32mpandas/_libs/src/inference.pyx\u001b[0m in \u001b[0;36mpandas._libs.lib.map_infer\u001b[0;34m()\u001b[0m\n",
      "\u001b[0;32m<ipython-input-64-18375d136c38>\u001b[0m in \u001b[0;36m<lambda>\u001b[0;34m(x)\u001b[0m\n\u001b[1;32m     11\u001b[0m \u001b[0;34m\u001b[0m\u001b[0m\n\u001b[1;32m     12\u001b[0m     \u001b[0mdf_concat\u001b[0m \u001b[0;34m=\u001b[0m \u001b[0mpd\u001b[0m\u001b[0;34m.\u001b[0m\u001b[0mDataFrame\u001b[0m\u001b[0;34m(\u001b[0m\u001b[0mdf_less_n\u001b[0m\u001b[0;34m.\u001b[0m\u001b[0mgroupby\u001b[0m\u001b[0;34m(\u001b[0m\u001b[0;34m'HADM_ID'\u001b[0m\u001b[0;34m)\u001b[0m\u001b[0;34m[\u001b[0m\u001b[0;34m'TEXT'\u001b[0m\u001b[0;34m]\u001b[0m\u001b[0;34m.\u001b[0m\u001b[0mapply\u001b[0m\u001b[0;34m(\u001b[0m\u001b[0;32mlambda\u001b[0m \u001b[0mx\u001b[0m\u001b[0;34m:\u001b[0m \u001b[0;34m\"%s\"\u001b[0m \u001b[0;34m%\u001b[0m \u001b[0;34m' '\u001b[0m\u001b[0;34m.\u001b[0m\u001b[0mjoin\u001b[0m\u001b[0;34m(\u001b[0m\u001b[0mx\u001b[0m\u001b[0;34m)\u001b[0m\u001b[0;34m)\u001b[0m\u001b[0;34m)\u001b[0m\u001b[0;34m.\u001b[0m\u001b[0mreset_index\u001b[0m\u001b[0;34m(\u001b[0m\u001b[0;34m)\u001b[0m\u001b[0;34m\u001b[0m\u001b[0m\n\u001b[0;32m---> 13\u001b[0;31m     \u001b[0mdf_concat\u001b[0m \u001b[0;34m=\u001b[0m \u001b[0mdf_concat\u001b[0m\u001b[0;34m.\u001b[0m\u001b[0massign\u001b[0m\u001b[0;34m(\u001b[0m\u001b[0mLabel\u001b[0m \u001b[0;34m=\u001b[0m \u001b[0mdf_concat\u001b[0m\u001b[0;34m[\u001b[0m\u001b[0;34m'HADM_ID'\u001b[0m\u001b[0;34m]\u001b[0m\u001b[0;34m.\u001b[0m\u001b[0mapply\u001b[0m\u001b[0;34m(\u001b[0m\u001b[0;32mlambda\u001b[0m \u001b[0mx\u001b[0m\u001b[0;34m:\u001b[0m \u001b[0mdf_less_n\u001b[0m\u001b[0;34m[\u001b[0m\u001b[0mdf_less_n\u001b[0m\u001b[0;34m[\u001b[0m\u001b[0;34m'HADM_ID'\u001b[0m\u001b[0;34m]\u001b[0m\u001b[0;34m==\u001b[0m\u001b[0mx\u001b[0m\u001b[0;34m]\u001b[0m\u001b[0;34m.\u001b[0m\u001b[0mLabel\u001b[0m\u001b[0;34m.\u001b[0m\u001b[0mvalues\u001b[0m\u001b[0;34m[\u001b[0m\u001b[0;36m0\u001b[0m\u001b[0;34m]\u001b[0m\u001b[0;34m)\u001b[0m\u001b[0;34m)\u001b[0m\u001b[0;34m\u001b[0m\u001b[0m\n\u001b[0m\u001b[1;32m     14\u001b[0m     \u001b[0mdf_concat\u001b[0m \u001b[0;34m=\u001b[0m \u001b[0mdf_concat\u001b[0m\u001b[0;34m.\u001b[0m\u001b[0massign\u001b[0m\u001b[0;34m(\u001b[0m\u001b[0mDEATH_90\u001b[0m \u001b[0;34m=\u001b[0m \u001b[0mdf_concat\u001b[0m\u001b[0;34m[\u001b[0m\u001b[0;34m'HADM_ID'\u001b[0m\u001b[0;34m]\u001b[0m\u001b[0;34m.\u001b[0m\u001b[0mapply\u001b[0m\u001b[0;34m(\u001b[0m\u001b[0;32mlambda\u001b[0m \u001b[0mx\u001b[0m\u001b[0;34m:\u001b[0m \u001b[0mdf_less_n\u001b[0m\u001b[0;34m[\u001b[0m\u001b[0mdf_less_n\u001b[0m\u001b[0;34m[\u001b[0m\u001b[0;34m'HADM_ID'\u001b[0m\u001b[0;34m]\u001b[0m\u001b[0;34m==\u001b[0m\u001b[0mx\u001b[0m\u001b[0;34m]\u001b[0m\u001b[0;34m.\u001b[0m\u001b[0mDEATH_90\u001b[0m\u001b[0;34m.\u001b[0m\u001b[0mvalues\u001b[0m\u001b[0;34m[\u001b[0m\u001b[0;36m0\u001b[0m\u001b[0;34m]\u001b[0m\u001b[0;34m)\u001b[0m\u001b[0;34m)\u001b[0m\u001b[0;34m\u001b[0m\u001b[0m\n\u001b[1;32m     15\u001b[0m \u001b[0;34m\u001b[0m\u001b[0m\n",
      "\u001b[0;32m/share/apps/python3/3.6.3/intel/lib/python3.6/site-packages/pandas-0.22.0-py3.6-linux-x86_64.egg/pandas/core/ops.py\u001b[0m in \u001b[0;36mwrapper\u001b[0;34m(self, other, axis)\u001b[0m\n\u001b[1;32m    878\u001b[0m             \u001b[0;32mwith\u001b[0m \u001b[0mnp\u001b[0m\u001b[0;34m.\u001b[0m\u001b[0merrstate\u001b[0m\u001b[0;34m(\u001b[0m\u001b[0mall\u001b[0m\u001b[0;34m=\u001b[0m\u001b[0;34m'ignore'\u001b[0m\u001b[0;34m)\u001b[0m\u001b[0;34m:\u001b[0m\u001b[0;34m\u001b[0m\u001b[0m\n\u001b[1;32m    879\u001b[0m                 \u001b[0mres\u001b[0m \u001b[0;34m=\u001b[0m \u001b[0mna_op\u001b[0m\u001b[0;34m(\u001b[0m\u001b[0mvalues\u001b[0m\u001b[0;34m,\u001b[0m \u001b[0mother\u001b[0m\u001b[0;34m)\u001b[0m\u001b[0;34m\u001b[0m\u001b[0m\n\u001b[0;32m--> 880\u001b[0;31m             \u001b[0;32mif\u001b[0m \u001b[0mis_scalar\u001b[0m\u001b[0;34m(\u001b[0m\u001b[0mres\u001b[0m\u001b[0;34m)\u001b[0m\u001b[0;34m:\u001b[0m\u001b[0;34m\u001b[0m\u001b[0m\n\u001b[0m\u001b[1;32m    881\u001b[0m                 raise TypeError('Could not compare {typ} type with Series'\n\u001b[1;32m    882\u001b[0m                                 .format(typ=type(other)))\n",
      "\u001b[0;31mKeyboardInterrupt\u001b[0m: "
     ]
    }
   ],
   "source": [
    "df_use_max_len = preprocessing(df_less_n_use, 318)"
   ]
  },
  {
   "cell_type": "code",
   "execution_count": null,
   "metadata": {},
   "outputs": [],
   "source": [
    "len(df_use_max_len)"
   ]
  },
  {
   "cell_type": "code",
   "execution_count": 67,
   "metadata": {},
   "outputs": [],
   "source": [
    "df_use = preprocessing_note(df_less_n_d2)"
   ]
  },
  {
   "cell_type": "code",
   "execution_count": 10,
   "metadata": {},
   "outputs": [
    {
     "name": "stderr",
     "output_type": "stream",
     "text": [
      "100%|██████████| 5/5 [00:32<00:00,  6.41s/it]\n"
     ]
    }
   ],
   "source": [
    "# create one untouchable test set first (instead of create five) just to enlarge the pretraining notes size\n",
    "df_HADM_ID = df_use.HADM_ID.drop_duplicates().reset_index(drop = True)\n",
    "test_id = df_HADM_ID.sample(frac = 0.1, replace = False, random_state = 1)\n",
    "test = df_use[df_use.HADM_ID.isin(test_id.values)]\n",
    "test.reset_index(drop = True).to_csv('/scratch/kh2383/MechVent/data/test.csv')\n",
    "\n",
    "train_val_id = df_HADM_ID[~df_HADM_ID.index.isin(test_id.index)]\n",
    "\n",
    "for i in tqdm(range(1,6)):\n",
    "    val_id = train_val_id.sample(frac = 1/9, replace = False, random_state = i)\n",
    "    train_id = train_val_id[~train_val_id.index.isin(val_id.index)]\n",
    "        \n",
    "    train = df_use[df_use.HADM_ID.isin(train_id.values)]\n",
    "    val = df_use[df_use.HADM_ID.isin(val_id.values)]\n",
    "    train_val = df_use[df_use.HADM_ID.isin(train_val_id)]\n",
    "    \n",
    "    path = '/scratch/kh2383/MechVent/data/fold'+str(i)\n",
    "    train.reset_index(drop = True).to_csv(path + '/train.csv')\n",
    "    val.reset_index(drop = True).to_csv(path + '/val.csv')\n",
    "    train_val.reset_index(drop = True).to_csv(path + '/train_val.csv')"
   ]
  },
  {
   "cell_type": "code",
   "execution_count": 32,
   "metadata": {},
   "outputs": [
    {
     "data": {
      "text/plain": [
       "57146"
      ]
     },
     "execution_count": 32,
     "metadata": {},
     "output_type": "execute_result"
    }
   ],
   "source": [
    "len(train)"
   ]
  },
  {
   "cell_type": "code",
   "execution_count": null,
   "metadata": {},
   "outputs": [],
   "source": []
  },
  {
   "cell_type": "code",
   "execution_count": 19,
   "metadata": {},
   "outputs": [
    {
     "name": "stderr",
     "output_type": "stream",
     "text": [
      "100%|██████████| 5/5 [00:23<00:00,  4.63s/it]\n"
     ]
    }
   ],
   "source": [
    "max_seq_len = 512\n",
    "# create one untouchable test set first (instead of create five) just to enlarge the pretraining notes size\n",
    "df_HADM_ID = df_use.HADM_ID.drop_duplicates().reset_index(drop = True)\n",
    "test_id = df_HADM_ID.sample(frac = 0.1, replace = False, random_state = 1)\n",
    "test = df_use_max_len[df_use_max_len.HADM_ID.isin(test_id.values)]\n",
    "test.reset_index(drop = True).to_csv('/scratch/kh2383/MechVent/data/test_'+str(max_seq_len)+'.csv')\n",
    "\n",
    "train_val_id = df_HADM_ID[~df_HADM_ID.index.isin(test_id.index)]\n",
    "\n",
    "for i in tqdm(range(1,6)):\n",
    "    val_id = train_val_id.sample(frac = 1/9, replace = False, random_state = i)\n",
    "    train_id = train_val_id[~train_val_id.index.isin(val_id.index)]\n",
    "        \n",
    "    train = df_use_max_len[df_use_max_len.HADM_ID.isin(train_id.values)]\n",
    "    val = df_use_max_len[df_use_max_len.HADM_ID.isin(val_id.values)]\n",
    "    train_val = df_use_max_len[df_use_max_len.HADM_ID.isin(train_val_id)]\n",
    "    \n",
    "    path = '/scratch/kh2383/MechVent/data/fold'+str(i)\n",
    "    train.reset_index(drop = True).to_csv(path + '/train_'+str(max_seq_len)+'.csv')\n",
    "    val.reset_index(drop = True).to_csv(path + '/val_'+str(max_seq_len)+'.csv')\n",
    "    train_val.reset_index(drop = True).to_csv(path + '/train_val_'+str(max_seq_len)+'.csv')"
   ]
  },
  {
   "cell_type": "code",
   "execution_count": null,
   "metadata": {},
   "outputs": [],
   "source": []
  },
  {
   "cell_type": "code",
   "execution_count": 11,
   "metadata": {},
   "outputs": [],
   "source": [
    "from spacy.lang.en import English\n",
    "nlp = English()  # just the language with no model\n",
    "nlp.add_pipe(nlp.create_pipe('sentencizer'))\n",
    "\n",
    "# nlp praser may not work when there is only one token. In these cases, we just remove them as note that has length 1 usually is some random stuff\n",
    "\n",
    "def toSentence(x):\n",
    "    doc = nlp(x)\n",
    "    text=[]\n",
    "    try:\n",
    "        for sent in doc.sents:\n",
    "            st=str(sent).strip() \n",
    "            if len(st)<20:\n",
    "                #a lot of abbreviation is segmented as one line. But these are all describing the previous things\n",
    "                #so I attached it to the sentence before\n",
    "                if len(text)!=0:\n",
    "                    text[-1]=' '.join((text[-1],st))\n",
    "                else:\n",
    "                    text=[st]\n",
    "            else:\n",
    "                text.append((st))\n",
    "    except:\n",
    "        print(doc)\n",
    "    return text\n"
   ]
  },
  {
   "cell_type": "code",
   "execution_count": null,
   "metadata": {},
   "outputs": [],
   "source": []
  },
  {
   "cell_type": "code",
   "execution_count": 12,
   "metadata": {},
   "outputs": [],
   "source": [
    "def preprocessing_sent(df_less_n): \n",
    "    df_less_n['TEXT']=df_less_n['TEXT'].fillna(' ')\n",
    "    df_less_n['TEXT']=df_less_n['TEXT'].str.replace('\\n',' ')\n",
    "    df_less_n['TEXT']=df_less_n['TEXT'].str.replace('\\r',' ')\n",
    "    df_less_n['TEXT']=df_less_n['TEXT'].apply(str.strip)\n",
    "    df_less_n['TEXT']=df_less_n['TEXT'].str.lower()\n",
    "\n",
    "    df_less_n['TEXT']=df_less_n['TEXT'].apply(lambda x: preprocess1(x))\n",
    "    df_less_n['# of tokens'] = df_less_n['TEXT'].str.split().str.len()\n",
    "    df_less_n = df_less_n[df_less_n['# of tokens'] > 5]\n",
    "    \n",
    "    df_concat = pd.DataFrame(df_less_n.groupby('HADM_ID')['TEXT'].apply(lambda x: \"%s\" % ' '.join(x))).reset_index()\n",
    "    df_concat = df_concat.assign(Label = df_concat['HADM_ID'].apply(lambda x: df_less_n[df_less_n['HADM_ID']==x].Label.values[0]))\n",
    "    \n",
    "    df_concat['sentence'] = df_concat.TEXT.apply(lambda x: toSentence(x))\n",
    "    \n",
    "    return df_concat"
   ]
  },
  {
   "cell_type": "code",
   "execution_count": 13,
   "metadata": {},
   "outputs": [],
   "source": [
    "df_sent = preprocessing_sent(df_less_n_d2)"
   ]
  },
  {
   "cell_type": "code",
   "execution_count": 14,
   "metadata": {},
   "outputs": [
    {
     "name": "stderr",
     "output_type": "stream",
     "text": [
      "100%|██████████| 5/5 [00:33<00:00,  6.66s/it]\n"
     ]
    }
   ],
   "source": [
    "# create one untouchable test set first (instead of create five) just to enlarge the pretraining notes size\n",
    "df_HADM_ID = df_use.HADM_ID.drop_duplicates().reset_index(drop = True)\n",
    "test_id = df_HADM_ID.sample(frac = 0.1, replace = False, random_state = 1)\n",
    "test = df_sent[df_sent.HADM_ID.isin(test_id.values)]\n",
    "test.reset_index(drop = True).to_csv('/scratch/kh2383/MechVent/data/test_sent.csv')\n",
    "\n",
    "train_val_id = df_HADM_ID[~df_HADM_ID.index.isin(test_id.index)]\n",
    "\n",
    "for i in tqdm(range(1,6)):\n",
    "    val_id = train_val_id.sample(frac = 1/9, replace = False, random_state = i)\n",
    "    train_id = train_val_id[~train_val_id.index.isin(val_id.index)]\n",
    "        \n",
    "    train = df_sent[df_sent.HADM_ID.isin(train_id.values)]\n",
    "    val = df_sent[df_sent.HADM_ID.isin(val_id.values)]\n",
    "    train_val = df_sent[df_sent.HADM_ID.isin(train_val_id)]\n",
    "    \n",
    "    path = '/scratch/kh2383/MechVent/data/fold'+str(i)\n",
    "    train.reset_index(drop = True).to_csv(path + '/train_sent.csv')\n",
    "    val.reset_index(drop = True).to_csv(path + '/val_sent.csv')\n",
    "    train_val.reset_index(drop = True).to_csv(path + '/train_val_sent.csv')"
   ]
  },
  {
   "cell_type": "code",
   "execution_count": 15,
   "metadata": {},
   "outputs": [
    {
     "data": {
      "text/plain": [
       "[\"resp: bs's remain coarse.\",\n",
       " 'suctioned and lavaged periodically for thick tan secretions.',\n",
       " 'attempt at weaning this am failed after about min. placed on as pt.',\n",
       " 'very awake, but became htn, tachpneic and very agitated.',\n",
       " \"presently on tv of -was weaned to -poor abg and now at -abg's improved.\",\n",
       " \"rate back to gi; tf'ings increased, as pt's goal is now cc/hr.\",\n",
       " 'which she had at home.',\n",
       " \"renal: foley draining well. adequate u/o's.\",\n",
       " \"given x cc fluid bolus this am for bp in 's. ivf's presently at cc/hr.\",\n",
       " 'neuro: very agitated during the day requiring frequent prn fent. and versed. pt.',\n",
       " 'eventually placed on versed and fent.',\n",
       " 'gtts, but need low doses as bp drops when sedated. pt.',\n",
       " 'is much more comfortable.',\n",
       " 'when awake it appears that she has restless leg syndrome. id; cont. on antibiotics.',\n",
       " 'social: husband and son into visit.',\n",
       " 'plan: trach in future.',\n",
       " 'doctor has spoken to her, but ?',\n",
       " 'how much she understood.',\n",
       " 'she denied that she spoke with him when i asked about it.',\n",
       " 'family also updated by doctor .',\n",
       " 'respiratory care: patient admitted with hx of als/worsening dyspnea. pt.',\n",
       " 'failed niv in er and required intubation.',\n",
       " 'initial vent settings vt , a/c , fio % and peep pt. transferred to .',\n",
       " 'repeat abg revealed compensated resp acidosis.',\n",
       " 'pao fio weaned to %.',\n",
       " \"sx'd for sm amount of thick yellow secretions. pt. hypotensive.\",\n",
       " 'no rsbi done this am.',\n",
       " 'plan: continue with mechanical support.',\n",
       " 'wean to psv as tolerated.',\n",
       " 'npn p-a: the pt is a y/o female who came to the ed from the pcp .',\n",
       " 'with a red hands and feet x wk.',\n",
       " 'confusion,lethargy,twitching, x wk.',\n",
       " 'she also has conjunctivits xwk. she is nonverbal.',\n",
       " 'neuro: she is intubated and sedated w/ haloperidol(mg iv) prn.',\n",
       " 'last given at she is able to move all ext. resp: intubated.',\n",
       " 'vent settings via care view. ls diminshed bilat.',\n",
       " 'last abg //// at that time the fio was %.',\n",
       " 'the fio was weaned to %.',\n",
       " 'sx for thick yellow and white sputum.',\n",
       " 'cv: nsr hr b/p of / dopa was restarted at mcg/kg/min.',\n",
       " \"she was bolused with lr x secondary to her low b/p's.\",\n",
       " 'the dopa was weaned off x hours.',\n",
       " 'no sedation was given prior to the drop in b/p this am. gi/gu: npo.',\n",
       " 'she has a og in in place.',\n",
       " 'abd soft + bs no bm.',\n",
       " 'she did point to her abd when she was aksed if she had pain. to given pain meds. secondary to b/p.',\n",
       " 'foley cath in place with good out put noted.',\n",
       " 'shin: she has open areas in the middle of her tights.',\n",
       " 'her husbans stated \" she drop some hot liquids on herself yesterday\".',\n",
       " 'poc: question a trach secondary to als. vent support.',\n",
       " 'she needs a line placed.',\n",
       " 'at the present time she has one piv on the right.',\n",
       " 'multiple attempts were made to place iv.',\n",
       " 'respiratory care note pt received on ac as noted.',\n",
       " 'bs are clear with good aeration throughout.',\n",
       " \"imv weaned to according to abg's which reveal a metabolic alkalosis with fair oxygenation.\",\n",
       " \"plan to continue on ac at this time - continue to wean settings as tolerated. resp: bs's clear. o sats improved.\",\n",
       " \"a-line placed and abg's sent-have improved. resp alkalosis.\",\n",
       " \"rate dropped to abg's to be sent soon. scant secretions. pt.\",\n",
       " 'is unable to handle her oral secretions now or prior to this admission.',\n",
       " 'gi: npo x meds-changed to ultracal at cc/hr.',\n",
       " 'flush with cc ho qhrs. pt.',\n",
       " 'has a peg, thus ogt removed.',\n",
       " 'cv: dopamine remained on til a-line placed.',\n",
       " 'large decrepancy in her bp.',\n",
       " \"arterial bp was in the 's. dopamine d/c'ed.\",\n",
       " \"renal: prior to a-line- bp was treated with x cc fluid boluses. adequate u/o's.\",\n",
       " 'id: started on antibiotics for infiltrate by cxr.',\n",
       " \"wbc's also slightly elevated at ointement to both eyes. no drainage noted.\",\n",
       " 'endoc: lytes repleted.',\n",
       " 'k+ - given meq kcl via peg.',\n",
       " 'neuro: alert and following commands today.',\n",
       " 'answering questions appropriately.',\n",
       " 'medicated x with low dose fent.',\n",
       " 'and versed for comfort on vent. mae.',\n",
       " 'skin integrity: hands and feet look less red then this am. pt.',\n",
       " \"states they aren't painful.\",\n",
       " 'social: husband stayed most of the day.',\n",
       " 'son from coming in tomorrow.',\n",
       " 'nursing assessment note - neuro: pt sleeping in naps, but easily arousable to verbal stimuli, pt able to answer \"yes or no\" questions, and follows commands to squeeze hands and wiggle toes, , pt moves all extremities, but has bilat wrist restraints on for safety, pt does get slightly anxious and restless at times, but responds well to mg versed and mcg fentanyl iv push cv: pt\\'s vss, afebrile, pt has denied pain throughout my shift, pt has left radial a-line, waveform is mostly sharp and wnl, but will occasionally dampen down, but with repositioning returns to baseline, skin is pink, warm, and dry, pp + & =, without edema, pt has #\\'s in right arm, both are patent and intact, pt in nsr/st without ectopy resp: pt\\'s lung sounds reveal coarse sounds throughout, with occasional rhonci which clears with suctioning, pt has small to moderate amount secretions which are tanish, with occasional blood tinge, and very thick and tenacious in nature, pt needs lavage in order to effectively suction secretions gi: pt npo with , pt has ultracal tube feeding currently infusing at cc/hour with goal rate of cc/hour, bowel sounds are positive, but hypoactive, with softly distended abd gu: pt\\'s foley draining clear amber urine qs intug: pt has blisters between thighs, which are open to air at this time resp care: pt continues intubated and on ventilatory support with a/c, no vent changes overnoc maintaining spo -%; bs rhonchorous, sxn thick tan secretions, nif -, rsbi , will attempt wean as tol.']"
      ]
     },
     "execution_count": 15,
     "metadata": {},
     "output_type": "execute_result"
    }
   ],
   "source": [
    "df_sent.sentence.values[i]"
   ]
  },
  {
   "cell_type": "code",
   "execution_count": 16,
   "metadata": {},
   "outputs": [],
   "source": [
    "sentence_num_per_adm = []\n",
    "sentence_len = []\n",
    "\n",
    "for i in range(len(df_sent)):\n",
    "    sentence_num_per_adm.append(len(df_sent.sentence[i]))\n",
    "    for j in range(len(df_sent.sentence[i])):\n",
    "        sentence_len.append(len(df_sent.sentence[i][j].split()))"
   ]
  },
  {
   "cell_type": "code",
   "execution_count": 25,
   "metadata": {},
   "outputs": [
    {
     "data": {
      "text/plain": [
       "849324"
      ]
     },
     "execution_count": 25,
     "metadata": {},
     "output_type": "execute_result"
    }
   ],
   "source": [
    "sum(np.array(sentence_len)<20)"
   ]
  },
  {
   "cell_type": "code",
   "execution_count": 24,
   "metadata": {},
   "outputs": [
    {
     "data": {
      "text/plain": [
       "12939109"
      ]
     },
     "execution_count": 24,
     "metadata": {},
     "output_type": "execute_result"
    }
   ],
   "source": [
    "sum(np.array(sentence_len))"
   ]
  },
  {
   "cell_type": "code",
   "execution_count": 56,
   "metadata": {},
   "outputs": [
    {
     "data": {
      "text/plain": [
       "(array([  6.84900000e+03,   3.42000000e+02,   8.30000000e+01,\n",
       "          9.00000000e+00,   2.00000000e+00,   0.00000000e+00,\n",
       "          0.00000000e+00,   0.00000000e+00,   0.00000000e+00,\n",
       "          2.00000000e+00]),\n",
       " array([    7. ,   287.9,   568.8,   849.7,  1130.6,  1411.5,  1692.4,\n",
       "         1973.3,  2254.2,  2535.1,  2816. ]),\n",
       " <a list of 10 Patch objects>)"
      ]
     },
     "execution_count": 56,
     "metadata": {},
     "output_type": "execute_result"
    },
    {
     "data": {
      "image/png": "[encoded data removed]",
      "text/plain": [
       "<Figure size 432x288 with 1 Axes>"
      ]
     },
     "metadata": {
      "needs_background": "light"
     },
     "output_type": "display_data"
    }
   ],
   "source": [
    "plt.hist(np.array(sentence_num_per_adm))"
   ]
  },
  {
   "cell_type": "code",
   "execution_count": 68,
   "metadata": {},
   "outputs": [
    {
     "data": {
      "text/plain": [
       "(array([  8.15446000e+05,   1.24760000e+05,   2.06010000e+04,\n",
       "          6.14800000e+03,   2.78300000e+03,   1.71800000e+03,\n",
       "          1.23900000e+03,   1.14600000e+03,   1.08300000e+03,\n",
       "          1.10500000e+03,   1.02200000e+03,   6.85000000e+02,\n",
       "          4.05000000e+02,   3.05000000e+02,   2.16000000e+02,\n",
       "          1.52000000e+02,   1.36000000e+02,   1.33000000e+02,\n",
       "          1.23000000e+02,   1.14000000e+02,   8.70000000e+01,\n",
       "          6.20000000e+01,   3.80000000e+01,   3.80000000e+01,\n",
       "          2.60000000e+01,   2.20000000e+01,   2.90000000e+01,\n",
       "          2.20000000e+01,   1.30000000e+01,   1.30000000e+01,\n",
       "          9.00000000e+00,   1.20000000e+01,   1.20000000e+01,\n",
       "          6.00000000e+00,   7.00000000e+00,   7.00000000e+00,\n",
       "          3.00000000e+00,   3.00000000e+00,   1.00000000e+00,\n",
       "          5.00000000e+00,   3.00000000e+00,   1.00000000e+00,\n",
       "          1.00000000e+00,   1.00000000e+00,   1.00000000e+00,\n",
       "          2.00000000e+00,   0.00000000e+00,   0.00000000e+00,\n",
       "          0.00000000e+00,   1.00000000e+00,   2.00000000e+00,\n",
       "          0.00000000e+00,   0.00000000e+00,   2.00000000e+00,\n",
       "          0.00000000e+00,   0.00000000e+00,   0.00000000e+00,\n",
       "          0.00000000e+00,   0.00000000e+00,   0.00000000e+00,\n",
       "          0.00000000e+00,   0.00000000e+00,   0.00000000e+00,\n",
       "          1.00000000e+00,   0.00000000e+00,   0.00000000e+00,\n",
       "          0.00000000e+00,   1.00000000e+00,   0.00000000e+00,\n",
       "          1.00000000e+00,   0.00000000e+00,   0.00000000e+00,\n",
       "          0.00000000e+00,   0.00000000e+00,   0.00000000e+00,\n",
       "          0.00000000e+00,   1.00000000e+00,   1.00000000e+00,\n",
       "          0.00000000e+00,   0.00000000e+00,   0.00000000e+00,\n",
       "          0.00000000e+00,   0.00000000e+00,   0.00000000e+00,\n",
       "          0.00000000e+00,   1.00000000e+00,   0.00000000e+00,\n",
       "          0.00000000e+00,   0.00000000e+00,   0.00000000e+00,\n",
       "          0.00000000e+00,   0.00000000e+00,   0.00000000e+00,\n",
       "          0.00000000e+00,   0.00000000e+00,   0.00000000e+00,\n",
       "          0.00000000e+00,   0.00000000e+00,   0.00000000e+00,\n",
       "          1.00000000e+00]),\n",
       " array([  1.00000000e+00,   1.71900000e+01,   3.33800000e+01,\n",
       "          4.95700000e+01,   6.57600000e+01,   8.19500000e+01,\n",
       "          9.81400000e+01,   1.14330000e+02,   1.30520000e+02,\n",
       "          1.46710000e+02,   1.62900000e+02,   1.79090000e+02,\n",
       "          1.95280000e+02,   2.11470000e+02,   2.27660000e+02,\n",
       "          2.43850000e+02,   2.60040000e+02,   2.76230000e+02,\n",
       "          2.92420000e+02,   3.08610000e+02,   3.24800000e+02,\n",
       "          3.40990000e+02,   3.57180000e+02,   3.73370000e+02,\n",
       "          3.89560000e+02,   4.05750000e+02,   4.21940000e+02,\n",
       "          4.38130000e+02,   4.54320000e+02,   4.70510000e+02,\n",
       "          4.86700000e+02,   5.02890000e+02,   5.19080000e+02,\n",
       "          5.35270000e+02,   5.51460000e+02,   5.67650000e+02,\n",
       "          5.83840000e+02,   6.00030000e+02,   6.16220000e+02,\n",
       "          6.32410000e+02,   6.48600000e+02,   6.64790000e+02,\n",
       "          6.80980000e+02,   6.97170000e+02,   7.13360000e+02,\n",
       "          7.29550000e+02,   7.45740000e+02,   7.61930000e+02,\n",
       "          7.78120000e+02,   7.94310000e+02,   8.10500000e+02,\n",
       "          8.26690000e+02,   8.42880000e+02,   8.59070000e+02,\n",
       "          8.75260000e+02,   8.91450000e+02,   9.07640000e+02,\n",
       "          9.23830000e+02,   9.40020000e+02,   9.56210000e+02,\n",
       "          9.72400000e+02,   9.88590000e+02,   1.00478000e+03,\n",
       "          1.02097000e+03,   1.03716000e+03,   1.05335000e+03,\n",
       "          1.06954000e+03,   1.08573000e+03,   1.10192000e+03,\n",
       "          1.11811000e+03,   1.13430000e+03,   1.15049000e+03,\n",
       "          1.16668000e+03,   1.18287000e+03,   1.19906000e+03,\n",
       "          1.21525000e+03,   1.23144000e+03,   1.24763000e+03,\n",
       "          1.26382000e+03,   1.28001000e+03,   1.29620000e+03,\n",
       "          1.31239000e+03,   1.32858000e+03,   1.34477000e+03,\n",
       "          1.36096000e+03,   1.37715000e+03,   1.39334000e+03,\n",
       "          1.40953000e+03,   1.42572000e+03,   1.44191000e+03,\n",
       "          1.45810000e+03,   1.47429000e+03,   1.49048000e+03,\n",
       "          1.50667000e+03,   1.52286000e+03,   1.53905000e+03,\n",
       "          1.55524000e+03,   1.57143000e+03,   1.58762000e+03,\n",
       "          1.60381000e+03,   1.62000000e+03]),\n",
       " <a list of 100 Patch objects>)"
      ]
     },
     "execution_count": 68,
     "metadata": {},
     "output_type": "execute_result"
    },
    {
     "data": {
      "image/png": "[encoded data removed]",
      "text/plain": [
       "<Figure size 432x288 with 1 Axes>"
      ]
     },
     "metadata": {
      "needs_background": "light"
     },
     "output_type": "display_data"
    }
   ],
   "source": [
    "plt.hist(np.array(sentence_len), bins=100)"
   ]
  },
  {
   "cell_type": "code",
   "execution_count": 66,
   "metadata": {},
   "outputs": [
    {
     "data": {
      "text/plain": [
       "13.206460588146436"
      ]
     },
     "execution_count": 66,
     "metadata": {},
     "output_type": "execute_result"
    }
   ],
   "source": [
    "np.mean(np.array(sentence_len))"
   ]
  },
  {
   "cell_type": "code",
   "execution_count": 74,
   "metadata": {},
   "outputs": [
    {
     "data": {
      "text/plain": [
       "0.018782227411722918"
      ]
     },
     "execution_count": 74,
     "metadata": {},
     "output_type": "execute_result"
    }
   ],
   "source": [
    "sum(np.array(sentence_len)>50)/len(sentence_len)"
   ]
  },
  {
   "cell_type": "code",
   "execution_count": null,
   "metadata": {},
   "outputs": [],
   "source": []
  },
  {
   "cell_type": "code",
   "execution_count": 30,
   "metadata": {},
   "outputs": [],
   "source": [
    "df_use.HADM_ID.drop_duplicates().reset_index(drop = True).to_csv('cohort_HADM_ID.csv')"
   ]
  },
  {
   "cell_type": "code",
   "execution_count": null,
   "metadata": {},
   "outputs": [],
   "source": []
  },
  {
   "cell_type": "code",
   "execution_count": null,
   "metadata": {},
   "outputs": [],
   "source": []
  },
  {
   "cell_type": "code",
   "execution_count": 52,
   "metadata": {},
   "outputs": [
    {
     "name": "stderr",
     "output_type": "stream",
     "text": [
      "/home/kh2383/pytorch-gpu/py3.6.3/lib/python3.6/site-packages/ipykernel_launcher.py:1: SettingWithCopyWarning: \n",
      "A value is trying to be set on a copy of a slice from a DataFrame.\n",
      "Try using .loc[row_indexer,col_indexer] = value instead\n",
      "\n",
      "See the caveats in the documentation: http://pandas.pydata.org/pandas-docs/stable/indexing.html#indexing-view-versus-copy\n",
      "  \"\"\"Entry point for launching an IPython kernel.\n"
     ]
    }
   ],
   "source": [
    "df_use['# of tokens'] = df_use['TEXT'].str.split().str.len()"
   ]
  },
  {
   "cell_type": "code",
   "execution_count": 14,
   "metadata": {},
   "outputs": [
    {
     "data": {
      "text/plain": [
       "154"
      ]
     },
     "execution_count": 14,
     "metadata": {},
     "output_type": "execute_result"
    }
   ],
   "source": [
    "len(df_use_max_len[df_use_max_len['# of tokens'] <=5])"
   ]
  },
  {
   "cell_type": "code",
   "execution_count": 13,
   "metadata": {},
   "outputs": [
    {
     "data": {
      "text/plain": [
       "71439"
      ]
     },
     "execution_count": 13,
     "metadata": {},
     "output_type": "execute_result"
    }
   ],
   "source": [
    "len(df_use)"
   ]
  },
  {
   "cell_type": "code",
   "execution_count": 53,
   "metadata": {},
   "outputs": [
    {
     "data": {
      "image/png": "[encoded data removed]",
      "text/plain": [
       "<Figure size 792x576 with 1 Axes>"
      ]
     },
     "metadata": {},
     "output_type": "display_data"
    },
    {
     "data": {
      "text/plain": [
       "<ggplot: (-9223369040229369200)>"
      ]
     },
     "execution_count": 53,
     "metadata": {},
     "output_type": "execute_result"
    }
   ],
   "source": [
    "from ggplot import *\n",
    "p = ggplot(aes(x='# of tokens', color = 'CATEGORY'), data=df_use)\n",
    "p + theme_bw() + geom_histogram(alpha=0.7, position=\"identity\", fill = 'white') + labs(title = 'Distributions of # of tokens for different categories')"
   ]
  },
  {
   "cell_type": "code",
   "execution_count": 41,
   "metadata": {},
   "outputs": [],
   "source": [
    "df_nursing = df_less_n_d2[df_less_n_d2.CATEGORY == 'Nursing'].groupby('HADM_ID')['TEXT'].agg(len)\n",
    "df_physician = df_less_n_d2[df_less_n_d2.CATEGORY == 'Respiratory '].groupby('HADM_ID')['TEXT'].agg(len)\n",
    "df_other = df_less_n_d2[df_less_n_d2.CATEGORY == 'Nursing/other'].groupby('HADM_ID')['TEXT'].agg(len)\n",
    "df_nursing = pd.DataFrame(df_nursing).rename(columns = {'TEXT':'# of notes'})\n",
    "df_physician = pd.DataFrame(df_physician).rename(columns = {'TEXT':'# of notes'})\n",
    "df_other = pd.DataFrame(df_other).rename(columns = {'TEXT':'# of notes'})"
   ]
  },
  {
   "cell_type": "code",
   "execution_count": 42,
   "metadata": {},
   "outputs": [
    {
     "data": {
      "image/png": "[encoded data removed]",
      "text/plain": [
       "<Figure size 792x576 with 1 Axes>"
      ]
     },
     "metadata": {},
     "output_type": "display_data"
    },
    {
     "data": {
      "text/plain": [
       "<ggplot: (-9223369067869790618)>"
      ]
     },
     "execution_count": 42,
     "metadata": {},
     "output_type": "execute_result"
    }
   ],
   "source": [
    "p = ggplot(aes(x='# of notes'), data=df_nursing)\n",
    "p + geom_histogram(alpha=0.7, position=\"identity\", fill = '#F8766D', binsize = 2) +  geom_histogram(aes(x='# of notes'), data=df_physician, fill = '#619CFF', alpha = 0.7, binsize = 2) + geom_histogram(aes(x='# of notes'), data=df_other, fill = '#00BA38', alpha = 0.7, binsize = 2) + theme_bw() + labs(title = 'Distributions of # of notes for different categories')"
   ]
  },
  {
   "cell_type": "code",
   "execution_count": 57,
   "metadata": {},
   "outputs": [],
   "source": [
    "df_nursing = df_use_max_len.groupby('HADM_ID')['TEXT'].agg(len)\n"
   ]
  },
  {
   "cell_type": "code",
   "execution_count": 63,
   "metadata": {},
   "outputs": [
    {
     "data": {
      "text/plain": [
       "(array([  6.74500000e+03,   4.57000000e+02,   7.20000000e+01,\n",
       "          9.00000000e+00,   2.00000000e+00,   0.00000000e+00,\n",
       "          0.00000000e+00,   1.00000000e+00,   0.00000000e+00,\n",
       "          1.00000000e+00]),\n",
       " array([   1. ,   13.1,   25.2,   37.3,   49.4,   61.5,   73.6,   85.7,\n",
       "          97.8,  109.9,  122. ]),\n",
       " <a list of 10 Patch objects>)"
      ]
     },
     "execution_count": 63,
     "metadata": {},
     "output_type": "execute_result"
    },
    {
     "data": {
      "image/png": "[encoded data removed]",
      "text/plain": [
       "<Figure size 432x288 with 1 Axes>"
      ]
     },
     "metadata": {
      "needs_background": "light"
     },
     "output_type": "display_data"
    }
   ],
   "source": [
    "plt.hist(df_nursing.values)"
   ]
  },
  {
   "cell_type": "code",
   "execution_count": null,
   "metadata": {},
   "outputs": [],
   "source": []
  },
  {
   "cell_type": "code",
   "execution_count": null,
   "metadata": {},
   "outputs": [],
   "source": []
  },
  {
   "cell_type": "code",
   "execution_count": 68,
   "metadata": {},
   "outputs": [
    {
     "data": {
      "text/html": [
       "<div>\n",
       "<style scoped>\n",
       "    .dataframe tbody tr th:only-of-type {\n",
       "        vertical-align: middle;\n",
       "    }\n",
       "\n",
       "    .dataframe tbody tr th {\n",
       "        vertical-align: top;\n",
       "    }\n",
       "\n",
       "    .dataframe thead th {\n",
       "        text-align: right;\n",
       "    }\n",
       "</style>\n",
       "<table border=\"1\" class=\"dataframe\">\n",
       "  <thead>\n",
       "    <tr style=\"text-align: right;\">\n",
       "      <th></th>\n",
       "      <th>HADM_ID</th>\n",
       "      <th>CHARTTIME</th>\n",
       "      <th>TEXT</th>\n",
       "      <th>CATEGORY</th>\n",
       "      <th>DESCRIPTION</th>\n",
       "      <th>ICUSTAY_ID</th>\n",
       "      <th>ADMITTIME</th>\n",
       "      <th>DISCHTIME</th>\n",
       "      <th>FIRST_VENT_STARTTIME</th>\n",
       "      <th>DOD</th>\n",
       "      <th>COHORT</th>\n",
       "      <th>DAYS_UNTIL_DEATH</th>\n",
       "      <th>DEATH</th>\n",
       "      <th>DEATH_90</th>\n",
       "      <th>Label</th>\n",
       "      <th># of tokens</th>\n",
       "    </tr>\n",
       "  </thead>\n",
       "  <tbody>\n",
       "    <tr>\n",
       "      <th>0</th>\n",
       "      <td>107527</td>\n",
       "      <td>2118-06-03 14:58:00</td>\n",
       "      <td>respiratory care rather busy shift with pt. pt...</td>\n",
       "      <td>Nursing/other</td>\n",
       "      <td>Report</td>\n",
       "      <td>239416</td>\n",
       "      <td>2118-06-02 19:18:00</td>\n",
       "      <td>2118-06-14 15:15:00</td>\n",
       "      <td>2118-06-03 11:00:00</td>\n",
       "      <td>2126-10-06</td>\n",
       "      <td>1</td>\n",
       "      <td>3046.541667</td>\n",
       "      <td>0</td>\n",
       "      <td>0</td>\n",
       "      <td>1</td>\n",
       "      <td>78</td>\n",
       "    </tr>\n",
       "    <tr>\n",
       "      <th>1</th>\n",
       "      <td>107527</td>\n",
       "      <td>2118-06-03 16:54:00</td>\n",
       "      <td>nursing progress note - events: exacerbation o...</td>\n",
       "      <td>Nursing/other</td>\n",
       "      <td>Report</td>\n",
       "      <td>239416</td>\n",
       "      <td>2118-06-02 19:18:00</td>\n",
       "      <td>2118-06-14 15:15:00</td>\n",
       "      <td>2118-06-03 11:00:00</td>\n",
       "      <td>2126-10-06</td>\n",
       "      <td>1</td>\n",
       "      <td>3046.541667</td>\n",
       "      <td>0</td>\n",
       "      <td>0</td>\n",
       "      <td>1</td>\n",
       "      <td>258</td>\n",
       "    </tr>\n",
       "  </tbody>\n",
       "</table>\n",
       "</div>"
      ],
      "text/plain": [
       "  HADM_ID           CHARTTIME  \\\n",
       "0  107527 2118-06-03 14:58:00   \n",
       "1  107527 2118-06-03 16:54:00   \n",
       "\n",
       "                                                TEXT       CATEGORY  \\\n",
       "0  respiratory care rather busy shift with pt. pt...  Nursing/other   \n",
       "1  nursing progress note - events: exacerbation o...  Nursing/other   \n",
       "\n",
       "  DESCRIPTION  ICUSTAY_ID           ADMITTIME           DISCHTIME  \\\n",
       "0      Report      239416 2118-06-02 19:18:00 2118-06-14 15:15:00   \n",
       "1      Report      239416 2118-06-02 19:18:00 2118-06-14 15:15:00   \n",
       "\n",
       "  FIRST_VENT_STARTTIME        DOD  COHORT  DAYS_UNTIL_DEATH  DEATH  DEATH_90  \\\n",
       "0  2118-06-03 11:00:00 2126-10-06       1       3046.541667      0         0   \n",
       "1  2118-06-03 11:00:00 2126-10-06       1       3046.541667      0         0   \n",
       "\n",
       "   Label  # of tokens  \n",
       "0      1           78  \n",
       "1      1          258  "
      ]
     },
     "execution_count": 68,
     "metadata": {},
     "output_type": "execute_result"
    }
   ],
   "source": [
    "df_use.head(2)"
   ]
  },
  {
   "cell_type": "code",
   "execution_count": 76,
   "metadata": {},
   "outputs": [
    {
     "name": "stdout",
     "output_type": "stream",
     "text": [
      "9.81636639896\n",
      "4.69939994908\n",
      "1752.67701324\n",
      "1593.28411966\n"
     ]
    }
   ],
   "source": [
    "df_final = df_use[df_use.DEATH_90 == 0]\n",
    "print(np.mean(df_final.groupby('HADM_ID').TEXT.agg(len).values))\n",
    "print(np.std(df_final.groupby('HADM_ID').TEXT.agg(len).values))\n",
    "\n",
    "word_count = pd.DataFrame(df_final.groupby(['HADM_ID','Label']).TEXT.apply(' '.join)).TEXT.str.split().str.len() \n",
    "print(np.mean(word_count.values))\n",
    "print(np.std(word_count.values))                                   \n",
    "                                   "
   ]
  },
  {
   "cell_type": "code",
   "execution_count": null,
   "metadata": {},
   "outputs": [],
   "source": []
  }
 ],
 "metadata": {
  "kernelspec": {
   "display_name": "Python 3",
   "language": "python",
   "name": "python3"
  },
  "language_info": {
   "codemirror_mode": {
    "name": "ipython",
    "version": 3
   },
   "file_extension": ".py",
   "mimetype": "text/x-python",
   "name": "python",
   "nbconvert_exporter": "python",
   "pygments_lexer": "ipython3",
   "version": "3.6.3"
  }
 },
 "nbformat": 4,
 "nbformat_minor": 2
}
