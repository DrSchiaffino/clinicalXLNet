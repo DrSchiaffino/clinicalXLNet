{
 "cells": [
  {
   "cell_type": "code",
   "execution_count": 1,
   "metadata": {},
   "outputs": [],
   "source": [
    "! cp /scratch/kh2383/MechVent/data/test_512.csv /scratch/kh2383/MechVent/data/fold1/test.csv"
   ]
  },
  {
   "cell_type": "code",
   "execution_count": 18,
   "metadata": {},
   "outputs": [],
   "source": [
    "!cp /scratch/kh2383/MechVent/checkpoint/model_seq_xlnet_nurse_pretrain_fold1_MV.pt /scratch/kh2383/MechVent/checkpoint/test.pt"
   ]
  },
  {
   "cell_type": "code",
   "execution_count": 25,
   "metadata": {},
   "outputs": [
    {
     "name": "stdout",
     "output_type": "stream",
     "text": [
      "------ meta finetuning skipped, directly loading pretrained model from save_meta_finetune_path -----\n",
      "----- note embedding is already saved in the desigated file folder, if not, delete skip_note_embed_save line -----\n",
      "----- finetuning stage -----\n",
      "--- Data Preparation ---\n",
      "--- Go for Training ---\n",
      "Validation at Epoch 1 , AUROC: 0.563984375 , AUPRC: 0.434489344076\n",
      "Validation at Epoch 2 , AUROC: 0.606283162595 , AUPRC: 0.446411426131\n",
      "Validation at Epoch 3 , AUROC: 0.666855126635 , AUPRC: 0.503416971841\n",
      "Validation at Epoch 4 , AUROC: 0.701907288114 , AUPRC: 0.541029155097\n",
      "Validation at Epoch 5 , AUROC: 0.709270141373 , AUPRC: 0.5356703223\n",
      "Validation at Epoch 6 , AUROC: 0.723384283901 , AUPRC: 0.563325714387\n",
      "Validation at Epoch 7 , AUROC: 0.726392251816 , AUPRC: 0.551383357915\n",
      "Validation at Epoch 8 , AUROC: 0.738621420997 , AUPRC: 0.568224248054\n",
      "Validation at Epoch 9 , AUROC: 0.756157452979 , AUPRC: 0.622571054367\n",
      "Validation at Epoch 10 , AUROC: 0.753545057896 , AUPRC: 0.609710829157\n",
      "Validation at Epoch 11 , AUROC: 0.757296613861 , AUPRC: 0.624497649333\n",
      "Validation at Epoch 12 , AUROC: 0.768200682952 , AUPRC: 0.661589047205\n",
      "Validation at Epoch 13 , AUROC: 0.74578404497 , AUPRC: 0.602149217878\n",
      "Validation at Epoch 14 , AUROC: 0.771554377654 , AUPRC: 0.681381662783\n",
      "Validation at Epoch 15 , AUROC: 0.763424033384 , AUPRC: 0.620507192548\n",
      "Validation at Epoch 16 , AUROC: 0.726270098812 , AUPRC: 0.5614700432\n",
      "Validation at Epoch 17 , AUROC: 0.7569223024 , AUPRC: 0.635003488962\n",
      "Validation at Epoch 18 , AUROC: 0.754856839873 , AUPRC: 0.612533445613\n",
      "Validation at Epoch 19 , AUROC: 0.753940382123 , AUPRC: 0.661949989248\n",
      "Validation at Epoch 20 , AUROC: 0.736446942456 , AUPRC: 0.621657860957\n",
      "Validation at Epoch 21 , AUROC: 0.745134985522 , AUPRC: 0.613304225114\n",
      "Validation at Epoch 22 , AUROC: 0.739385802987 , AUPRC: 0.608081541676\n",
      "Validation at Epoch 23 , AUROC: 0.737175467202 , AUPRC: 0.61545790434\n",
      "Validation at Epoch 24 , AUROC: 0.741526672561 , AUPRC: 0.602522061736\n",
      "Validation at Epoch 25 , AUROC: 0.744711317363 , AUPRC: 0.614839144344\n",
      "Validation at Epoch 26 , AUROC: 0.7449686329 , AUPRC: 0.631034674019\n",
      "Validation at Epoch 27 , AUROC: 0.723832402583 , AUPRC: 0.582806886821\n",
      "Validation at Epoch 28 , AUROC: 0.723379834931 , AUPRC: 0.58889321172\n",
      "Validation at Epoch 29 , AUROC: 0.724938271605 , AUPRC: 0.589064079376\n",
      "Validation at Epoch 30 , AUROC: 0.724373282967 , AUPRC: 0.557999629503\n",
      "--- Go for Testing ---\n",
      "Testing AUROC: 0.747805092186 , AUPRC: 0.598212674415 , Test loss: 0.571748673915863\n",
      "315.8935589790344\n"
     ]
    }
   ],
   "source": [
    "!python train.py \\\n",
    "  --data_dir /scratch/kh2383/MechVent/data/test_data \\\n",
    "  --config_path /scratch/kh2383/clibert/clinical_xlnet_pytorch/config.json\\\n",
    "  --model_path /scratch/kh2383/clibert/clinical_xlnet_pytorch/pytorch_model.bin \\\n",
    "  --save_meta_finetune_path /scratch/kh2383/MechVent/checkpoint/test.pt \\\n",
    "  --prediction_label Mortality \\\n",
    "  --Batch_Size_Meta 4 \\\n",
    "  --Learning_Rate_Meta 1e-5 \\\n",
    "  --Training_Epoch_Meta 4 \\\n",
    "  --Batch_Size_Finetune 128 \\\n",
    "  --Learning_Rate_Finetune 2e-5 \\\n",
    "  --Training_Epoch_Finetune 30 \\\n",
    "  --saving_notes_embed_batch_size 32 \\\n",
    "  --skip_meta_finetuned \\\n",
    "  --skip_note_embed_save"
   ]
  },
  {
   "cell_type": "code",
   "execution_count": null,
   "metadata": {},
   "outputs": [],
   "source": []
  }
 ],
 "metadata": {
  "kernelspec": {
   "display_name": "Python 3",
   "language": "python",
   "name": "python3"
  },
  "language_info": {
   "codemirror_mode": {
    "name": "ipython",
    "version": 3
   },
   "file_extension": ".py",
   "mimetype": "text/x-python",
   "name": "python",
   "nbconvert_exporter": "python",
   "pygments_lexer": "ipython3",
   "version": "3.6.3"
  }
 },
 "nbformat": 4,
 "nbformat_minor": 2
}
